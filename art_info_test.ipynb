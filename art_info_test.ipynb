{
 "cells": [
  {
   "cell_type": "code",
   "execution_count": 1,
   "metadata": {
    "collapsed": true,
    "deletable": true,
    "editable": true
   },
   "outputs": [],
   "source": [
    "import requests\n",
    "from bs4 import BeautifulSoup "
   ]
  },
  {
   "cell_type": "code",
   "execution_count": 99,
   "metadata": {
    "collapsed": false,
    "deletable": true,
    "editable": true
   },
   "outputs": [
    {
     "name": "stdout",
     "output_type": "stream",
     "text": [
      "0916 圆形扇面 （五幅） 镜心 设色绢本 \n"
     ]
    }
   ],
   "source": [
    "data = requests.get('http://auction.artron.net/paimai-art5021720916/').content\n",
    "soup = BeautifulSoup(data,'lxml')\n",
    "print soup.body.find('div',{'class':'titLeft'}).h1.text"
   ]
  },
  {
   "cell_type": "code",
   "execution_count": 136,
   "metadata": {
    "collapsed": false,
    "deletable": true,
    "editable": true,
    "scrolled": false
   },
   "outputs": [
    {
     "name": "stdout",
     "output_type": "stream",
     "text": [
      "\n",
      "作者\n",
      " \n",
      "\t顾麟士  \t\n",
      "\n",
      "\t吴滔  \t\n",
      "\n",
      "\t张光  \t\n",
      "\t等        \t\n",
      "尺寸\n",
      "尺寸不一\n",
      "\n"
     ]
    }
   ],
   "source": [
    "print soup.body.find('div',{'class':'worksInfo'},id='').table.find_all('tr')[0].text"
   ]
  },
  {
   "cell_type": "code",
   "execution_count": 102,
   "metadata": {
    "collapsed": false,
    "deletable": true,
    "editable": true,
    "scrolled": true
   },
   "outputs": [
    {
     "name": "stdout",
     "output_type": "stream",
     "text": [
      "0916 圆形扇面 （五幅） 镜心 设色绢本 \n"
     ]
    }
   ],
   "source": [
    "print soup.body.find('div',{'class':'titLeft'}).h1.text"
   ]
  },
  {
   "cell_type": "code",
   "execution_count": 137,
   "metadata": {
    "collapsed": false,
    "deletable": true,
    "editable": true
   },
   "outputs": [
    {
     "data": {
      "text/plain": [
       "u'\\u987e\\u9e9f\\u58eb'"
      ]
     },
     "execution_count": 137,
     "metadata": {},
     "output_type": "execute_result"
    }
   ],
   "source": [
    "list = map(lambda t: t.text.split()[0],soup.body.find('div',{'class':'worksInfo'},id='').table.td.find_all('a'))\n",
    "list[0]"
   ]
  },
  {
   "cell_type": "code",
   "execution_count": 170,
   "metadata": {
    "collapsed": true,
    "deletable": true,
    "editable": true
   },
   "outputs": [],
   "source": [
    "import re"
   ]
  },
  {
   "cell_type": "code",
   "execution_count": 195,
   "metadata": {
    "collapsed": false,
    "deletable": true,
    "editable": true,
    "scrolled": false
   },
   "outputs": [],
   "source": [
    "proxy_data = requests.get('http://proxylist.me/proxys/index/').content\n",
    "proxy_soup = BeautifulSoup(proxy_data,'lxml')\n",
    "#map (lambda t: re.compile(r'\\d+\\.\\d+\\.\\d+\\.\\d+').search(t).group()+':'+re.compile('(?:<td>)(\\d+)(?:</td>)').search(t).group(0), proxy_soup.body.find('div',{'class':'table-responsive'}).tbody.find_all('tr')\n",
    "tlist = proxy_soup.body.find('div',{'class':'table-responsive'}).find_all('tr')"
   ]
  },
  {
   "cell_type": "code",
   "execution_count": 196,
   "metadata": {
    "collapsed": true,
    "deletable": true,
    "editable": true
   },
   "outputs": [],
   "source": [
    "proxy_list = []"
   ]
  },
  {
   "cell_type": "code",
   "execution_count": 203,
   "metadata": {
    "collapsed": false,
    "deletable": true,
    "editable": true
   },
   "outputs": [],
   "source": [
    "re.compile(r'\\d+\\.\\d+\\.\\d+\\.\\d+').search(str(tlist[0]))"
   ]
  },
  {
   "cell_type": "code",
   "execution_count": 204,
   "metadata": {
    "collapsed": false,
    "deletable": true,
    "editable": true
   },
   "outputs": [
    {
     "data": {
      "text/plain": [
       "'<tr>\\n<th>IP</th>\\n<th>Port</th>\\n<th>Type</th>\\n<th>Protocol</th>\\n<th>Proxy Country</th>\\n<th>Proxy Location</th>\\n<th>Response Time</th>\\n<th>Availability</th>\\n<th>Updated</th>\\n</tr>'"
      ]
     },
     "execution_count": 204,
     "metadata": {},
     "output_type": "execute_result"
    }
   ],
   "source": [
    "str(tlist[0])"
   ]
  },
  {
   "cell_type": "code",
   "execution_count": 206,
   "metadata": {
    "collapsed": false,
    "deletable": true,
    "editable": true,
    "scrolled": true
   },
   "outputs": [
    {
     "name": "stdout",
     "output_type": "stream",
     "text": [
      "212.91.189.162:6080\n",
      "200.133.37.38:80\n",
      "52.67.8.135:80\n",
      "162.243.202.25:80\n",
      "94.23.81.70:8081\n",
      "103.228.152.11:80\n",
      "121.8.98.201:8080\n",
      "84.244.7.32:8081\n",
      "91.214.114.135:8081\n",
      "81.219.211.193:8080\n",
      "79.120.123.171:8080\n",
      "188.213.175.227:80\n",
      "187.94.99.41:3128\n",
      "179.221.127.132:3128\n",
      "181.211.246.18:8080\n",
      "117.239.66.73:80\n",
      "46.243.178.3:8888\n",
      "107.178.4.109:8080\n",
      "178.60.28.98:9999\n",
      "201.162.127.178:8080\n"
     ]
    }
   ],
   "source": [
    "for t in tlist:\n",
    "    if re.compile(r'\\d+\\.\\d+\\.\\d+\\.\\d+').search(t.text) == None:\n",
    "        continue\n",
    "    ip = re.compile(r'\\d+\\.\\d+\\.\\d+\\.\\d+').search(t.text).group().encode('ascii', 'ignore')\n",
    "    port = re.compile(r'(?:<td>)(\\d+)(?:</td>)').search(str(t)).group(1)\n",
    "    proxy_list.append(ip+':'+port)\n",
    "    print ip+':'+port"
   ]
  },
  {
   "cell_type": "code",
   "execution_count": 207,
   "metadata": {
    "collapsed": false,
    "deletable": true,
    "editable": true
   },
   "outputs": [
    {
     "data": {
      "text/plain": [
       "20"
      ]
     },
     "execution_count": 207,
     "metadata": {},
     "output_type": "execute_result"
    }
   ],
   "source": [
    "len(proxy_list)"
   ]
  },
  {
   "cell_type": "code",
   "execution_count": 191,
   "metadata": {
    "collapsed": false,
    "deletable": true,
    "editable": true,
    "scrolled": false
   },
   "outputs": [
    {
     "name": "stdout",
     "output_type": "stream",
     "text": [
      "46.243.178.3\n",
      "8888\n"
     ]
    }
   ],
   "source": [
    "print re.compile(r'\\d+\\.\\d+\\.\\d+\\.\\d+').search(tlist[0].text).group().encode('ascii', 'ignore')\n",
    "#print tlist[0].text\n",
    "\n",
    "print re.compile(r'(?:<td>)(\\d+)(?:</td>)').search(str(tlist[0])).group(1)"
   ]
  },
  {
   "cell_type": "code",
   "execution_count": 214,
   "metadata": {
    "collapsed": false,
    "deletable": true,
    "editable": true
   },
   "outputs": [
    {
     "data": {
      "text/plain": [
       "[20,\n",
       " 40,\n",
       " 60,\n",
       " 80,\n",
       " 100,\n",
       " 120,\n",
       " 140,\n",
       " 160,\n",
       " 180,\n",
       " 200,\n",
       " 220,\n",
       " 240,\n",
       " 260,\n",
       " 280,\n",
       " 300,\n",
       " 320,\n",
       " 340,\n",
       " 360,\n",
       " 380,\n",
       " 400,\n",
       " 420,\n",
       " 440,\n",
       " 460,\n",
       " 480,\n",
       " 500,\n",
       " 520,\n",
       " 540,\n",
       " 560,\n",
       " 580,\n",
       " 600,\n",
       " 620,\n",
       " 640,\n",
       " 660,\n",
       " 680,\n",
       " 700,\n",
       " 720,\n",
       " 740,\n",
       " 760,\n",
       " 780,\n",
       " 800,\n",
       " 820,\n",
       " 840,\n",
       " 860,\n",
       " 880]"
      ]
     },
     "execution_count": 214,
     "metadata": {},
     "output_type": "execute_result"
    }
   ],
   "source": []
  },
  {
   "cell_type": "code",
   "execution_count": 215,
   "metadata": {
    "collapsed": true,
    "deletable": true,
    "editable": true
   },
   "outputs": [],
   "source": [
    "proxy_list = []"
   ]
  },
  {
   "cell_type": "code",
   "execution_count": 218,
   "metadata": {
    "collapsed": false,
    "deletable": true,
    "editable": true,
    "scrolled": true
   },
   "outputs": [
    {
     "ename": "AttributeError",
     "evalue": "'NoneType' object has no attribute 'find_all'",
     "output_type": "error",
     "traceback": [
      "\u001b[0;31m---------------------------------------------------------------------------\u001b[0m",
      "\u001b[0;31mAttributeError\u001b[0m                            Traceback (most recent call last)",
      "\u001b[0;32m<ipython-input-218-4c8ed05821aa>\u001b[0m in \u001b[0;36m<module>\u001b[0;34m()\u001b[0m\n\u001b[1;32m      3\u001b[0m     \u001b[0mproxy_soup\u001b[0m \u001b[0;34m=\u001b[0m \u001b[0mBeautifulSoup\u001b[0m\u001b[0;34m(\u001b[0m\u001b[0mproxy_data\u001b[0m\u001b[0;34m,\u001b[0m\u001b[0;34m'lxml'\u001b[0m\u001b[0;34m)\u001b[0m\u001b[0;34m\u001b[0m\u001b[0m\n\u001b[1;32m      4\u001b[0m     \u001b[0;31m#map (lambda t: re.compile(r'\\d+\\.\\d+\\.\\d+\\.\\d+').search(t).group()+':'+re.compile('(?:<td>)(\\d+)(?:</td>)').search(t).group(0), proxy_soup.body.find('div',{'class':'table-responsive'}).tbody.find_all('tr')\u001b[0m\u001b[0;34m\u001b[0m\u001b[0;34m\u001b[0m\u001b[0m\n\u001b[0;32m----> 5\u001b[0;31m     \u001b[0mtlist\u001b[0m \u001b[0;34m=\u001b[0m \u001b[0mproxy_soup\u001b[0m\u001b[0;34m.\u001b[0m\u001b[0mbody\u001b[0m\u001b[0;34m.\u001b[0m\u001b[0mfind\u001b[0m\u001b[0;34m(\u001b[0m\u001b[0;34m'div'\u001b[0m\u001b[0;34m,\u001b[0m\u001b[0;34m{\u001b[0m\u001b[0;34m'class'\u001b[0m\u001b[0;34m:\u001b[0m\u001b[0;34m'table-responsive'\u001b[0m\u001b[0;34m}\u001b[0m\u001b[0;34m)\u001b[0m\u001b[0;34m.\u001b[0m\u001b[0mfind_all\u001b[0m\u001b[0;34m(\u001b[0m\u001b[0;34m'tr'\u001b[0m\u001b[0;34m)\u001b[0m\u001b[0;34m\u001b[0m\u001b[0m\n\u001b[0m\u001b[1;32m      6\u001b[0m     \u001b[0;32mfor\u001b[0m \u001b[0mt\u001b[0m \u001b[0;32min\u001b[0m \u001b[0mtlist\u001b[0m\u001b[0;34m:\u001b[0m\u001b[0;34m\u001b[0m\u001b[0m\n\u001b[1;32m      7\u001b[0m         \u001b[0;32mif\u001b[0m \u001b[0mre\u001b[0m\u001b[0;34m.\u001b[0m\u001b[0mcompile\u001b[0m\u001b[0;34m(\u001b[0m\u001b[0;34mr'\\d+\\.\\d+\\.\\d+\\.\\d+'\u001b[0m\u001b[0;34m)\u001b[0m\u001b[0;34m.\u001b[0m\u001b[0msearch\u001b[0m\u001b[0;34m(\u001b[0m\u001b[0mt\u001b[0m\u001b[0;34m.\u001b[0m\u001b[0mtext\u001b[0m\u001b[0;34m)\u001b[0m \u001b[0;34m==\u001b[0m \u001b[0mNone\u001b[0m\u001b[0;34m:\u001b[0m\u001b[0;34m\u001b[0m\u001b[0m\n",
      "\u001b[0;31mAttributeError\u001b[0m: 'NoneType' object has no attribute 'find_all'"
     ]
    }
   ],
   "source": [
    "for i in range(10):\n",
    "    proxy_data = requests.get('https://proxy-list.org/english/index.php?p='+str(i+1)).content\n",
    "    proxy_soup = BeautifulSoup(proxy_data,'lxml')\n",
    "    #map (lambda t: re.compile(r'\\d+\\.\\d+\\.\\d+\\.\\d+').search(t).group()+':'+re.compile('(?:<td>)(\\d+)(?:</td>)').search(t).group(0), proxy_soup.body.find('div',{'class':'table-responsive'}).tbody.find_all('tr')\n",
    "    tlist = proxy_soup.body.tbody.tr.find(id=\"content\").\n",
    "    for t in tlist:\n",
    "        if re.compile(r'\\d+\\.\\d+\\.\\d+\\.\\d+').search(t.text) == None:\n",
    "            continue\n",
    "        ip = re.compile(r'\\d+\\.\\d+\\.\\d+\\.\\d+').search(t.text).group().encode('ascii', 'ignore')\n",
    "        port = re.compile(r'(?:<td>)(\\d+)(?:</td>)').search(str(t)).group(1)\n",
    "        proxy_list.append(ip+':'+port)\n",
    "        print ip+':'+port"
   ]
  },
  {
   "cell_type": "code",
   "execution_count": 224,
   "metadata": {
    "collapsed": false,
    "deletable": true,
    "editable": true
   },
   "outputs": [
    {
     "name": "stdout",
     "output_type": "stream",
     "text": [
      "<body>\n",
      "<div id=\"wrapper\">\n",
      "<table cellpadding=\"0\" width=\"100%\">\n",
      "<tr>\n",
      "<td id=\"sitemenu\" valign=\"top\">\n",
      "<h1>\n",
      "<a href=\"./index.php\">Proxy List</a>\n",
      "<small>only working proxies</small>\n",
      "</h1>\n",
      "<div class=\"login\">\n",
      "<form action=\"./index.php\" method=\"post\">\n",
      "<div class=\"credentials\">\n",
      "<div class=\"input-wrap\"><input id=\"uemail\" name=\"email\" placeholder=\"your email address\" type=\"text\"/></div>\n",
      "<div class=\"input-wrap\"><input id=\"upassword\" name=\"password\" placeholder=\"your password\" type=\"password\"/></div>\n",
      "</div>\n",
      "<div class=\"remember\">\n",
      "<input class=\"button\" id=\"login\" type=\"button\" value=\"Login\"/>\n",
      "<input id=\"remember\" name=\"remember\" type=\"checkbox\"/> <label for=\"remember\">remember me</label>\n",
      "<label id=\"forget\">Forgot password?</label>\n",
      "<div class=\"clear\"></div>\n",
      "</div>\n",
      "</form>\n",
      "<form action=\"./remind.php\" class=\"remind-form\" id=\"remind-form\" method=\"post\">\n",
      "<div class=\"remind\">\n",
      "<div class=\"input-wrap\"><input id=\"remail\" name=\"email\" placeholder=\"your email address\" type=\"text\"/></div>\n",
      "</div>\n",
      "<div class=\"button-wrap\">\n",
      "<input class=\"button\" id=\"remind\" type=\"button\" value=\"Remind my password\"/>\n",
      "</div>\n",
      "</form>\n",
      "</div>\n",
      "<ul class=\"navi\">\n",
      "<li><a href=\"./register.php\">BUY Proxy Servers<!--Register account--></a></li>\n",
      "<li class=\"current\"><a href=\"./index.php\">Free Proxy List</a></li>\n",
      "<li><a href=\"./checker.php\">Online Proxy Checker</a></li>\n",
      "<!--<li ><a href=\"https://addons.mozilla.org/en-US/firefox/addon/best-proxy-switcher/\" target=\"_blank\">Best Proxy Switcher</a></li>-->\n",
      "<li><a href=\"./showmyip.php\">Show my IP address</a></li>\n",
      "<li><a href=\"./extractor.php\">Proxy Extractor</a></li>\n",
      "<li><a href=\"./article-proxy-types.php\">Various proxy types</a></li>\n",
      "<li><a href=\"./article-transparent-anonymous-elite-proxy.php\">Proxy anonymity levels</a></li>\n",
      "<li><a href=\"./article-what-is-proxy.php\">What is proxy server?</a></li>\n",
      "<li><a href=\"./contactus.php\">Contacts us</a></li>\n",
      "<li><a href=\"http://affiliate.proxy-list.org/\" target=\"_blank\">Affiliate</a></li>\n",
      "</ul>\n",
      "<ul class=\"lang\">\n",
      "<li class=\"current\"><a href=\"/english/index.php?p=1&amp;setlang=english\"><div class=\"icon-gb\"><!-- --></div><div class=\"label\">English</div><div class=\"clear\"></div></a></li>\n",
      "<li><a href=\"/russian/index.php?p=1&amp;setlang=russian\"><div class=\"icon-ru\"><!-- --></div><div class=\"label\">Русский</div><div class=\"clear\"></div></a></li>\n",
      "<li><a href=\"/chinese/index.php?p=1&amp;setlang=chinese\"><div class=\"icon-cn\"><!-- --></div><div class=\"label\">中文 </div><div class=\"clear\"></div></a></li>\n",
      "<li><a href=\"/spanish/index.php?p=1&amp;setlang=spanish\"><div class=\"icon-es\"><!-- --></div><div class=\"label\">Espanol</div><div class=\"clear\"></div></a></li>\n",
      "<li><a href=\"/german/index.php?p=1&amp;setlang=german\"><div class=\"icon-de\"><!-- --></div><div class=\"label\">Deutsh</div><div class=\"clear\"></div></a></li>\n",
      "<li><a href=\"/french/index.php?p=1&amp;setlang=french\"><div class=\"icon-fr\"><!-- --></div><div class=\"label\">Français</div><div class=\"clear\"></div></a></li>\n",
      "</ul> </td>\n",
      "<td id=\"content\">\n",
      "<div class=\"min-width\"><!-- --></div>\n",
      "<div class=\"header\">\n",
      "<div class=\"header-left\"><!-- --></div>\n",
      "<div class=\"header-right\"><!-- --></div>\n",
      "<div class=\"header-center\"><!-- --></div>\n",
      "<div class=\"clear\"></div>\n",
      "</div>\n",
      "<div class=\"arrow\">\n",
      "<div class=\"arrow-left\"><!-- --></div>\n",
      "<div class=\"arrow-right\"><!-- --></div>\n",
      "<div class=\"arrow-devider\"><!-- --></div>\n",
      "<div class=\"clear\"></div>\n",
      "</div>\n",
      "<div class=\"content\">\n",
      "<!--\n",
      "                    <div class=\"left-space\" style=\"text-align:center; margin:20px 0 30px 0;\">\n",
      "            <p style=\"font-size:25px; font-weight:bold;\">Introducing new address of our web site</p>\n",
      "            <p style=\"font-size:35px\"><a href=\"https://best-proxy.com\">best-proxy.com</a></p>\n",
      "          </div>\n",
      "                    <div class=\"left-space\" style=\"text-align:center; \">\n",
      "            <a href=\"http://facebook-unblock.org/\" target=\"_blank\"><img src=\"/images/facebook-unblock.gif\" border=\"0\"></a>\n",
      "          </div>\n",
      "          -->\n",
      "<div class=\"left-space\" style=\"padding:10px;margin:10px 10px 20px 10px;border:1px solid #ff6e01\">\n",
      "<p style=\"text-align:center; font-size:20px; font-weight:bold; padding:0; margin:0 0 10px 0\">Our New Private Proxy Service - <a href=\"http://meninproxy.com\" target=\"_blank\">MenInProxy.com</a></p>\n",
      "<p style=\"font-size:14px padding:0; margin:0 0 10px 0\"><u>Private proxy servers from 31 countries!</u> Unlimited rotation! Username or IP authentication methods! You select countries yourself and change them any time. Stable and fast, risk free with 7 days money back guarantee!</p>\n",
      "<p style=\"font-size:14px; padding:0; margin:0\"><u>Available country list:</u> Argentina, Bulgaria, Brazil, Chile, Colombia, Cuba, Cyprus, Czech Republic, Germany, Spain, Finland, France, Gibraltar, Greece, Croatia, Iceland, Italy, Luxembourg, Latvia, Mexico, Netherlands, Noway, Panama, Poland, Portugal, Serbia, Russia, Sweden, Ukraine, United Kingdom, United States.</p>\n",
      "</div>\n",
      "<div class=\"section-title\">\n",
      "<div class=\"icon\"><!-- --></div>\n",
      "<h2>Available proxy servers stats</h2>\n",
      "<div class=\"clear\"></div>\n",
      "</div>\n",
      "<div class=\"left-space\">\n",
      "<ul class=\"info-table\">\n",
      "<!--\n",
      "              <li>\n",
      "                <span class=\"info-col1\"><span class=\"info-data\">Working proxy servers during 24 hours:</span></span><!--\n",
      "             -- ><span class=\"info-col2\"><span class=\"info-data\">36195</span></span>\n",
      "              </li>\n",
      "              <li>\n",
      "                <span class=\"info-col1\"><span class=\"info-data\">Proxy servers for registered members:</span></span><!--\n",
      "             -- ><span class=\"info-col2\"><span class=\"info-data\">3452</span></span>\n",
      "              </li>\n",
      "              -->\n",
      "<li>\n",
      "<span class=\"info-col1\"><span class=\"info-data\">Proxy servers for registered members:</span></span><!--\n",
      "--><span class=\"info-col2\"><span class=\"info-data\">36195</span></span>\n",
      "</li>\n",
      "<li>\n",
      "<span class=\"info-col1\"><span class=\"info-data\">Free sample proxy servers:</span></span><!--\n",
      "--><span class=\"info-col2\"><span class=\"info-data\">140</span></span>\n",
      "</li>\n",
      "<li>\n",
      "<span class=\"info-col1\"><span class=\"info-data\">Proxy list <u>will be</u> updated in:</span></span><!--\n",
      "--><span class=\"info-col2\"><span class=\"info-data timer\"><strong>59</strong> seconds</span></span>\n",
      "</li>\n",
      "<li>\n",
      "<span class=\"info-col1\"><span class=\"info-data\">Local server time:</span></span><!--\n",
      "--><span class=\"info-col2\"><span class=\"info-data\">15:37:17 UTC</span></span>\n",
      "</li>\n",
      "</ul>\n",
      "</div>\n",
      "<!--\n",
      "          <div class=\"left-space\">\n",
      "            <h2 class=\"promotion\">!!! CHRISTMAS PROMOTION !!!<br><a href=\"./register.php\">Register</a> Today and Get +33% Discount!</h2>\n",
      "          </div>\n",
      "          -->\n",
      "<!--\n",
      "          <div class=\"left-space\">\n",
      "            <a href=\"http://affiliate.proxy-list.org/\" title=\"Increase your bank account balance - ProxyMoney.com!\" target=\"_blank\"><img src=\"http://proxymoney.com/graphics/products/proxymoney3.jpg\" border=\"0\"></a>\n",
      "          </div>\n",
      "          -->\n",
      "<div class=\"left-space\" style=\"text-align: center;\">\n",
      "<h2 class=\"promotion\">!!! LIMITED TIME OFFER !!!<br/><a href=\"./register.php\">Register</a> Today and Get +33% Discount!</h2>\n",
      "</div>\n",
      "<div class=\"section-title\">\n",
      "<div class=\"icon\"><!-- --></div>\n",
      "<h2>140 free sample proxy servers</h2>\n",
      "<div class=\"clear\"></div>\n",
      "</div>\n",
      "<div class=\"left-space\">\n",
      "<div class=\"proxy-table\" id=\"proxy-table\">\n",
      "<ul class=\"header-row\">\n",
      "<li class=\"proxy\">Proxy</li>\n",
      "<li class=\"https\"><span>HTTPS/SSL</span></li>\n",
      "<li class=\"speed\">Speed</li>\n",
      "<li class=\"type\">Type</li>\n",
      "<li class=\"country-city\">\n",
      "<div>\n",
      "<span class=\"country\"><span class=\"country-code\">Country</span></span><!--\n",
      "--><span class=\"city\">City</span>\n",
      "</div>\n",
      "</li>\n",
      "</ul>\n",
      "<div class=\"clear\"></div>\n",
      "<div class=\"table-wrap\">\n",
      "<div class=\"table\">\n",
      "<ul>\n",
      "<li class=\"proxy\"><script type=\"text/javascript\">Proxy('MTM0LjIxMy4yMjEuMTc3OjUwNzA=')</script></li>\n",
      "<li class=\"https\"><strong>HTTPS</strong></li>\n",
      "<li class=\"speed\">198kbit</li>\n",
      "<li class=\"type\">Transparent</li>\n",
      "<li class=\"country-city\">\n",
      "<div>\n",
      "<span class=\"country\" title=\"United Kingdom\"><span class=\"country-code\"><span class=\"flag gb\"></span><span class=\"name\">GB United Kingdom</span></span></span><!--\n",
      "--><span class=\"city\"><span>-</span></span>\n",
      "</div>\n",
      "</li>\n",
      "</ul>\n",
      "<div class=\"clear\"></div>\n",
      "<ul>\n",
      "<li class=\"proxy\"><script type=\"text/javascript\">Proxy('MjIzLjY4LjEuMzg6ODAwMA==')</script></li>\n",
      "<li class=\"https\">HTTP</li>\n",
      "<li class=\"speed\">14.8kbit</li>\n",
      "<li class=\"type\">Transparent</li>\n",
      "<li class=\"country-city\">\n",
      "<div>\n",
      "<span class=\"country\" title=\"China\"><span class=\"country-code\"><span class=\"flag cn\"></span><span class=\"name\">CN China</span></span></span><!--\n",
      "--><span class=\"city\"><span>-</span></span>\n",
      "</div>\n",
      "</li>\n",
      "</ul>\n",
      "<div class=\"clear\"></div>\n",
      "<ul>\n",
      "<li class=\"proxy\"><script type=\"text/javascript\">Proxy('MTI0LjEyMS4xOTIuNjU6MzEyOA==')</script></li>\n",
      "<li class=\"https\">HTTP</li>\n",
      "<li class=\"speed\">16.2kbit</li>\n",
      "<li class=\"type\">Transparent</li>\n",
      "<li class=\"country-city\">\n",
      "<div>\n",
      "<span class=\"country\" title=\"Thailand\"><span class=\"country-code\"><span class=\"flag th\"></span><span class=\"name\">TH Thailand</span></span></span><!--\n",
      "--><span class=\"city\"><span>-</span></span>\n",
      "</div>\n",
      "</li>\n",
      "</ul>\n",
      "<div class=\"clear\"></div>\n",
      "<ul>\n",
      "<li class=\"proxy\"><script type=\"text/javascript\">Proxy('NDIuODEuNTguMTk5Ojgw')</script></li>\n",
      "<li class=\"https\">HTTP</li>\n",
      "<li class=\"speed\">-</li>\n",
      "<li class=\"type\">Transparent</li>\n",
      "<li class=\"country-city\">\n",
      "<div>\n",
      "<span class=\"country\" title=\"China\"><span class=\"country-code\"><span class=\"flag cn\"></span><span class=\"name\">CN China</span></span></span><!--\n",
      "--><span class=\"city\"><span>Tianjin</span></span>\n",
      "</div>\n",
      "</li>\n",
      "</ul>\n",
      "<div class=\"clear\"></div>\n",
      "<ul>\n",
      "<li class=\"proxy\"><script type=\"text/javascript\">Proxy('MjAxLjE2LjE0MC4yMDU6MzEyOA==')</script></li>\n",
      "<li class=\"https\">HTTP</li>\n",
      "<li class=\"speed\">-</li>\n",
      "<li class=\"type\"><strong>Elite</strong></li>\n",
      "<li class=\"country-city\">\n",
      "<div>\n",
      "<span class=\"country\" title=\"Brazil\"><span class=\"country-code\"><span class=\"flag br\"></span><span class=\"name\">BR Brazil</span></span></span><!--\n",
      "--><span class=\"city\"><span>-</span></span>\n",
      "</div>\n",
      "</li>\n",
      "</ul>\n",
      "<div class=\"clear\"></div>\n",
      "<ul>\n",
      "<li class=\"proxy\"><script type=\"text/javascript\">Proxy('ODIuMjA2LjEzMi4xMTg6MzEyOA==')</script></li>\n",
      "<li class=\"https\">HTTP</li>\n",
      "<li class=\"speed\">9.0kbit</li>\n",
      "<li class=\"type\">Transparent</li>\n",
      "<li class=\"country-city\">\n",
      "<div>\n",
      "<span class=\"country\" title=\"Satellite Provider\"><span class=\"country-code\"><span class=\"flag a2\"></span><span class=\"name\">A2 Satellite Provider</span></span></span><!--\n",
      "--><span class=\"city\"><span>-</span></span>\n",
      "</div>\n",
      "</li>\n",
      "</ul>\n",
      "<div class=\"clear\"></div>\n",
      "<ul>\n",
      "<li class=\"proxy\"><script type=\"text/javascript\">Proxy('MTU4LjY5LjExNS43Mzo4MDgw')</script></li>\n",
      "<li class=\"https\"><strong>HTTPS</strong></li>\n",
      "<li class=\"speed\">460kbit</li>\n",
      "<li class=\"type\">Transparent</li>\n",
      "<li class=\"country-city\">\n",
      "<div>\n",
      "<span class=\"country\" title=\"United States\"><span class=\"country-code\"><span class=\"flag us\"></span><span class=\"name\">US United States</span></span></span><!--\n",
      "--><span class=\"city\"><span>Pasadena</span></span>\n",
      "</div>\n",
      "</li>\n",
      "</ul>\n",
      "<div class=\"clear\"></div>\n",
      "<ul>\n",
      "<li class=\"proxy\"><script type=\"text/javascript\">Proxy('MTk4LjUwLjI0MC4xODozMTI4')</script></li>\n",
      "<li class=\"https\">HTTP</li>\n",
      "<li class=\"speed\">777kbit</li>\n",
      "<li class=\"type\">Transparent</li>\n",
      "<li class=\"country-city\">\n",
      "<div>\n",
      "<span class=\"country\" title=\"Canada\"><span class=\"country-code\"><span class=\"flag ca\"></span><span class=\"name\">CA Canada</span></span></span><!--\n",
      "--><span class=\"city\"><span>Montréal</span></span>\n",
      "</div>\n",
      "</li>\n",
      "</ul>\n",
      "<div class=\"clear\"></div>\n",
      "<ul>\n",
      "<li class=\"proxy\"><script type=\"text/javascript\">Proxy('MTkwLjU0LjU5LjIxMDo4MDgw')</script></li>\n",
      "<li class=\"https\"><strong>HTTPS</strong></li>\n",
      "<li class=\"speed\">193kbit</li>\n",
      "<li class=\"type\">Transparent</li>\n",
      "<li class=\"country-city\">\n",
      "<div>\n",
      "<span class=\"country\" title=\"Chile\"><span class=\"country-code\"><span class=\"flag cl\"></span><span class=\"name\">CL Chile</span></span></span><!--\n",
      "--><span class=\"city\"><span>Santiago</span></span>\n",
      "</div>\n",
      "</li>\n",
      "</ul>\n",
      "<div class=\"clear\"></div>\n",
      "<ul>\n",
      "<li class=\"proxy\"><script type=\"text/javascript\">Proxy('ODkuNDAuMTEzLjEyMDo4MDgw')</script></li>\n",
      "<li class=\"https\"><strong>HTTPS</strong></li>\n",
      "<li class=\"speed\">-</li>\n",
      "<li class=\"type\">Transparent</li>\n",
      "<li class=\"country-city\">\n",
      "<div>\n",
      "<span class=\"country\" title=\"France\"><span class=\"country-code\"><span class=\"flag fr\"></span><span class=\"name\">FR France</span></span></span><!--\n",
      "--><span class=\"city\"><span>Paris</span></span>\n",
      "</div>\n",
      "</li>\n",
      "</ul>\n",
      "<div class=\"clear\"></div>\n",
      "<ul>\n",
      "<li class=\"proxy\"><script type=\"text/javascript\">Proxy('MzQuMjAwLjE0MS4yNTM6ODA=')</script></li>\n",
      "<li class=\"https\">HTTP</li>\n",
      "<li class=\"speed\">2880kbit</li>\n",
      "<li class=\"type\">Transparent</li>\n",
      "<li class=\"country-city\">\n",
      "<div>\n",
      "<span class=\"country\" title=\"United States\"><span class=\"country-code\"><span class=\"flag us\"></span><span class=\"name\">US United States</span></span></span><!--\n",
      "--><span class=\"city\"><span>Houston</span></span>\n",
      "</div>\n",
      "</li>\n",
      "</ul>\n",
      "<div class=\"clear\"></div>\n",
      "<ul>\n",
      "<li class=\"proxy\"><script type=\"text/javascript\">Proxy('ODkuMzYuMjIzLjU5OjgwODA=')</script></li>\n",
      "<li class=\"https\"><strong>HTTPS</strong></li>\n",
      "<li class=\"speed\">-</li>\n",
      "<li class=\"type\">Transparent</li>\n",
      "<li class=\"country-city\">\n",
      "<div>\n",
      "<span class=\"country\" title=\"United Kingdom\"><span class=\"country-code\"><span class=\"flag gb\"></span><span class=\"name\">GB United Kingdom</span></span></span><!--\n",
      "--><span class=\"city\"><span>Slough</span></span>\n",
      "</div>\n",
      "</li>\n",
      "</ul>\n",
      "<div class=\"clear\"></div>\n",
      "<ul>\n",
      "<li class=\"proxy\"><script type=\"text/javascript\">Proxy('NTkuNzIuMTA5LjkwOjMxMjg=')</script></li>\n",
      "<li class=\"https\">HTTP</li>\n",
      "<li class=\"speed\">-</li>\n",
      "<li class=\"type\">Transparent</li>\n",
      "<li class=\"country-city\">\n",
      "<div>\n",
      "<span class=\"country\" title=\"China\"><span class=\"country-code\"><span class=\"flag cn\"></span><span class=\"name\">CN China</span></span></span><!--\n",
      "--><span class=\"city\"><span>Changchun</span></span>\n",
      "</div>\n",
      "</li>\n",
      "</ul>\n",
      "<div class=\"clear\"></div>\n",
      "<ul>\n",
      "<li class=\"proxy\"><script type=\"text/javascript\">Proxy('OTUuMTA0LjE5NC4xMTQ6ODA4MQ==')</script></li>\n",
      "<li class=\"https\">HTTP</li>\n",
      "<li class=\"speed\">166kbit</li>\n",
      "<li class=\"type\">Transparent</li>\n",
      "<li class=\"country-city\">\n",
      "<div>\n",
      "<span class=\"country\" title=\"Russian Federation\"><span class=\"country-code\"><span class=\"flag ru\"></span><span class=\"name\">RU Russia</span></span></span><!--\n",
      "--><span class=\"city\"><span>Ulyanovsk</span></span>\n",
      "</div>\n",
      "</li>\n",
      "</ul>\n",
      "<div class=\"clear\"></div>\n",
      "</div>\n",
      "</div>\n",
      "</div>\n",
      "<div class=\"table-menu\">\n",
      "<a class=\"active\">1</a>\n",
      "<a class=\"item\" href=\"./index.php?p=2\">2</a>\n",
      "<a class=\"item\" href=\"./index.php?p=3\">3</a>\n",
      "<a class=\"item\" href=\"./index.php?p=4\">4</a>\n",
      "<a class=\"item\" href=\"./index.php?p=5\">5</a>\n",
      "<a class=\"item\" href=\"./index.php?p=6\">6</a>\n",
      "<a class=\"item\" href=\"./index.php?p=7\">7</a>\n",
      "<a class=\"item\" href=\"./index.php?p=8\">8</a>\n",
      "<a class=\"item\" href=\"./index.php?p=9\">9</a>\n",
      "<a class=\"item\" href=\"./index.php?p=10\">10</a>\n",
      "<a class=\"next\" href=\"./index.php?p=2\">»</a> </div>\n",
      "<div class=\"clear\"></div>\n",
      "</div>\n",
      "<div class=\"section-title\">\n",
      "<div class=\"icon\"><!-- --></div>\n",
      "<h2>Search proxy servers</h2>\n",
      "<div class=\"clear\"></div>\n",
      "</div>\n",
      "<div class=\"left-space\">\n",
      "<div class=\"search\">\n",
      "<form action=\"./search.php\" id=\"form-search\" method=\"get\">\n",
      "<input name=\"search\" type=\"hidden\" value=\"\"/>\n",
      "<table cellpadding=\"0\" class=\"left-column\">\n",
      "<tr>\n",
      "<td class=\"labels\">\n",
      "<label>Proxy country:</label>\n",
      "<label>Proxy type:</label>\n",
      "</td>\n",
      "<td class=\"selects\">\n",
      "<select name=\"country\">\n",
      "<option selected=\"selected\" value=\"any\">any country</option>\n",
      "<option value=\"usa-and-canada\">USA and Canada</option>\n",
      "<option value=\"western-europe\">Western Europe</option>\n",
      "<option value=\"estern-europe\">Estern Europe</option>\n",
      "<option value=\"arab-world\">Arab World</option>\n",
      "<option value=\"western-asia\">Western Asia</option>\n",
      "<option value=\"estern-asia\">Eastern Asia</option>\n",
      "<option value=\"AF\">Afghanistan</option>\n",
      "<option value=\"AL\">Albania</option>\n",
      "<option value=\"DZ\">Algeria</option>\n",
      "<option value=\"AR\">Argentina</option>\n",
      "<option value=\"AU\">Australia</option>\n",
      "<option value=\"BD\">Bangladesh</option>\n",
      "<option value=\"BY\">Belarus</option>\n",
      "<option value=\"BE\">Belgium</option>\n",
      "<option value=\"BO\">Bolivia</option>\n",
      "<option value=\"BA\">Bosnia</option>\n",
      "<option value=\"BR\">Brazil</option>\n",
      "<option value=\"BG\">Bulgaria</option>\n",
      "<option value=\"BI\">Burundi</option>\n",
      "<option value=\"KH\">Cambodia</option>\n",
      "<option value=\"CM\">Cameroon</option>\n",
      "<option value=\"CA\">Canada</option>\n",
      "<option value=\"CL\">Chile</option>\n",
      "<option value=\"CN\">China</option>\n",
      "<option value=\"CO\">Colombia</option>\n",
      "<option value=\"CR\">Costa Rica</option>\n",
      "<option value=\"CZ\">Czech Republic</option>\n",
      "<option value=\"DK\">Denmark</option>\n",
      "<option value=\"EC\">Ecuador</option>\n",
      "<option value=\"EG\">Egypt</option>\n",
      "<option value=\"FR\">France</option>\n",
      "<option value=\"GE\">Georgia</option>\n",
      "<option value=\"DE\">Germany</option>\n",
      "<option value=\"GH\">Ghana</option>\n",
      "<option value=\"GR\">Greece</option>\n",
      "<option value=\"HN\">Honduras</option>\n",
      "<option value=\"HK\">Hong Kong</option>\n",
      "<option value=\"HU\">Hungary</option>\n",
      "<option value=\"IN\">India</option>\n",
      "<option value=\"ID\">Indonesia</option>\n",
      "<option value=\"IQ\">Iraq</option>\n",
      "<option value=\"IE\">Ireland</option>\n",
      "<option value=\"IL\">Israel3</option>\n",
      "<option value=\"IT\">Italy</option>\n",
      "<option value=\"JP\">Japan</option>\n",
      "<option value=\"KZ\">Kazakhstan</option>\n",
      "<option value=\"KE\">Kenya</option>\n",
      "<option value=\"KW\">Kuwait</option>\n",
      "<option value=\"LA\">Lao People's Democratic Republic</option>\n",
      "<option value=\"LT\">Lithuania</option>\n",
      "<option value=\"MO\">Macau</option>\n",
      "<option value=\"MY\">Malaysia</option>\n",
      "<option value=\"MU\">Mauritius</option>\n",
      "<option value=\"MX\">Mexico</option>\n",
      "<option value=\"MZ\">Mozambique</option>\n",
      "<option value=\"NP\">Nepal</option>\n",
      "<option value=\"NL\">Netherlands</option>\n",
      "<option value=\"NI\">Nicaragua</option>\n",
      "<option value=\"NG\">Nigeria</option>\n",
      "<option value=\"NO\">Norway</option>\n",
      "<option value=\"PK\">Pakistan</option>\n",
      "<option value=\"PA\">Panama</option>\n",
      "<option value=\"PY\">Paraguay</option>\n",
      "<option value=\"PE\">Peru</option>\n",
      "<option value=\"PH\">Philippines</option>\n",
      "<option value=\"PL\">Poland</option>\n",
      "<option value=\"PT\">Portugal</option>\n",
      "<option value=\"RO\">Romania</option>\n",
      "<option value=\"RU\">Russia</option>\n",
      "<option value=\"RW\">Rwanda</option>\n",
      "<option value=\"LC\">Saint Lucia</option>\n",
      "<option value=\"A2\">Satellite Provider</option>\n",
      "<option value=\"SA\">Saudi Arabia</option>\n",
      "<option value=\"RS\">Serbia</option>\n",
      "<option value=\"SC\">Seychelles</option>\n",
      "<option value=\"SG\">Singapore</option>\n",
      "<option value=\"SK\">Slovakia</option>\n",
      "<option value=\"ZA\">South Africa</option>\n",
      "<option value=\"ES\">Spain</option>\n",
      "<option value=\"SE\">Sweden</option>\n",
      "<option value=\"CH\">Switzerland</option>\n",
      "<option value=\"TW\">Taiwan</option>\n",
      "<option value=\"TH\">Thailand</option>\n",
      "<option value=\"TR\">Turkey</option>\n",
      "<option value=\"TM\">Turkmenistan</option>\n",
      "<option value=\"UA\">Ukrain</option>\n",
      "<option value=\"AE\">United Arab Emirates</option>\n",
      "<option value=\"GB\">United Kingdom</option>\n",
      "<option value=\"US\">United States</option>\n",
      "<option value=\"UZ\">Uzbekistan</option>\n",
      "<option value=\"VE\">Venezuela</option>\n",
      "<option value=\"VN\">Vietnam</option> </select>\n",
      "<select name=\"type\">\n",
      "<option selected=\"selected\" value=\"any\">any type</option>\n",
      "<option value=\"transparent\">Transparent</option>\n",
      "<option value=\"anonymous\">Anonymous</option>\n",
      "<option value=\"elite\">Elite</option>\n",
      "<option value=\"anonymous-and-elite\">Anonymous and Elite</option> </select>\n",
      "</td>\n",
      "</tr>\n",
      "</table>\n",
      "<table cellpadding=\"0\" class=\"right-column\">\n",
      "<tr>\n",
      "<td class=\"labels\">\n",
      "<label>Proxy port:</label>\n",
      "<label>HTTPS/SSL:</label>\n",
      "</td>\n",
      "<td class=\"selects\">\n",
      "<select name=\"port\">\n",
      "<option selected=\"selected\" value=\"any\">any port</option>\n",
      "<option value=\"80-3128-8080\">80, 3128 and 8080</option>\n",
      "<option value=\"53\">53</option>\n",
      "<option value=\"80\">80</option>\n",
      "<option value=\"81\">81</option>\n",
      "<option value=\"82\">82</option>\n",
      "<option value=\"83\">83</option>\n",
      "<option value=\"84\">84</option>\n",
      "<option value=\"85\">85</option>\n",
      "<option value=\"87\">87</option>\n",
      "<option value=\"88\">88</option>\n",
      "<option value=\"113\">113</option>\n",
      "<option value=\"118\">118</option>\n",
      "<option value=\"120\">120</option>\n",
      "<option value=\"121\">121</option>\n",
      "<option value=\"137\">137</option>\n",
      "<option value=\"138\">138</option>\n",
      "<option value=\"139\">139</option>\n",
      "<option value=\"159\">159</option>\n",
      "<option value=\"163\">163</option>\n",
      "<option value=\"174\">174</option>\n",
      "<option value=\"186\">186</option>\n",
      "<option value=\"197\">197</option>\n",
      "<option value=\"211\">211</option>\n",
      "<option value=\"217\">217</option>\n",
      "<option value=\"218\">218</option>\n",
      "<option value=\"222\">222</option>\n",
      "<option value=\"348\">348</option>\n",
      "<option value=\"370\">370</option>\n",
      "<option value=\"443\">443</option>\n",
      "<option value=\"666\">666</option>\n",
      "<option value=\"808\">808</option>\n",
      "<option value=\"843\">843</option>\n",
      "<option value=\"1080\">1080</option>\n",
      "<option value=\"2222\">2222</option>\n",
      "<option value=\"2597\">2597</option>\n",
      "<option value=\"2999\">2999</option>\n",
      "<option value=\"3124\">3124</option>\n",
      "<option value=\"3128\">3128</option>\n",
      "<option value=\"3129\">3129</option>\n",
      "<option value=\"3130\">3130</option>\n",
      "<option value=\"3134\">3134</option>\n",
      "<option value=\"3135\">3135</option>\n",
      "<option value=\"3137\">3137</option>\n",
      "<option value=\"3139\">3139</option>\n",
      "<option value=\"3140\">3140</option>\n",
      "<option value=\"3141\">3141</option>\n",
      "<option value=\"3142\">3142</option>\n",
      "<option value=\"3143\">3143</option>\n",
      "<option value=\"3144\">3144</option>\n",
      "<option value=\"3145\">3145</option>\n",
      "<option value=\"3146\">3146</option>\n",
      "<option value=\"3147\">3147</option>\n",
      "<option value=\"3148\">3148</option>\n",
      "<option value=\"3149\">3149</option>\n",
      "<option value=\"3150\">3150</option>\n",
      "<option value=\"3151\">3151</option>\n",
      "<option value=\"3152\">3152</option>\n",
      "<option value=\"3153\">3153</option>\n",
      "<option value=\"3154\">3154</option>\n",
      "<option value=\"3155\">3155</option>\n",
      "<option value=\"3156\">3156</option>\n",
      "<option value=\"3158\">3158</option>\n",
      "<option value=\"3159\">3159</option>\n",
      "<option value=\"3160\">3160</option>\n",
      "<option value=\"3161\">3161</option>\n",
      "<option value=\"3162\">3162</option>\n",
      "<option value=\"3163\">3163</option>\n",
      "<option value=\"3164\">3164</option>\n",
      "<option value=\"3165\">3165</option>\n",
      "<option value=\"3166\">3166</option>\n",
      "<option value=\"3167\">3167</option>\n",
      "<option value=\"3169\">3169</option>\n",
      "<option value=\"3170\">3170</option>\n",
      "<option value=\"3171\">3171</option>\n",
      "<option value=\"3172\">3172</option>\n",
      "<option value=\"3174\">3174</option>\n",
      "<option value=\"3175\">3175</option>\n",
      "<option value=\"3177\">3177</option>\n",
      "<option value=\"3179\">3179</option>\n",
      "<option value=\"3180\">3180</option>\n",
      "<option value=\"3181\">3181</option>\n",
      "<option value=\"3183\">3183</option>\n",
      "<option value=\"3184\">3184</option>\n",
      "<option value=\"3185\">3185</option>\n",
      "<option value=\"3188\">3188</option>\n",
      "<option value=\"3189\">3189</option>\n",
      "<option value=\"3190\">3190</option>\n",
      "<option value=\"3191\">3191</option>\n",
      "<option value=\"3192\">3192</option>\n",
      "<option value=\"4000\">4000</option>\n",
      "<option value=\"4130\">4130</option>\n",
      "<option value=\"4444\">4444</option>\n",
      "<option value=\"5007\">5007</option>\n",
      "<option value=\"5070\">5070</option>\n",
      "<option value=\"5256\">5256</option>\n",
      "<option value=\"5292\">5292</option>\n",
      "<option value=\"5555\">5555</option>\n",
      "<option value=\"5601\">5601</option>\n",
      "<option value=\"6006\">6006</option>\n",
      "<option value=\"6080\">6080</option>\n",
      "<option value=\"6666\">6666</option>\n",
      "<option value=\"8000\">8000</option>\n",
      "<option value=\"8008\">8008</option>\n",
      "<option value=\"8080\">8080</option>\n",
      "<option value=\"8081\">8081</option>\n",
      "<option value=\"8082\">8082</option>\n",
      "<option value=\"8083\">8083</option>\n",
      "<option value=\"8085\">8085</option>\n",
      "<option value=\"8088\">8088</option>\n",
      "<option value=\"8089\">8089</option>\n",
      "<option value=\"8090\">8090</option>\n",
      "<option value=\"8099\">8099</option>\n",
      "<option value=\"8101\">8101</option>\n",
      "<option value=\"8118\">8118</option>\n",
      "<option value=\"8123\">8123</option>\n",
      "<option value=\"8128\">8128</option>\n",
      "<option value=\"8799\">8799</option>\n",
      "<option value=\"8888\">8888</option>\n",
      "<option value=\"8998\">8998</option>\n",
      "<option value=\"9000\">9000</option>\n",
      "<option value=\"9001\">9001</option>\n",
      "<option value=\"9100\">9100</option>\n",
      "<option value=\"9666\">9666</option>\n",
      "<option value=\"9797\">9797</option>\n",
      "<option value=\"9998\">9998</option>\n",
      "<option value=\"9999\">9999</option>\n",
      "<option value=\"10240\">10240</option>\n",
      "<option value=\"12000\">12000</option>\n",
      "<option value=\"13000\">13000</option>\n",
      "<option value=\"13114\">13114</option>\n",
      "<option value=\"13557\">13557</option>\n",
      "<option value=\"14149\">14149</option>\n",
      "<option value=\"14419\">14419</option>\n",
      "<option value=\"14491\">14491</option>\n",
      "<option value=\"15430\">15430</option>\n",
      "<option value=\"15724\">15724</option>\n",
      "<option value=\"15776\">15776</option>\n",
      "<option value=\"16264\">16264</option>\n",
      "<option value=\"16698\">16698</option>\n",
      "<option value=\"19420\">19420</option>\n",
      "<option value=\"20412\">20412</option>\n",
      "<option value=\"20762\">20762</option>\n",
      "<option value=\"21320\">21320</option>\n",
      "<option value=\"22716\">22716</option>\n",
      "<option value=\"23943\">23943</option>\n",
      "<option value=\"24599\">24599</option>\n",
      "<option value=\"24642\">24642</option>\n",
      "<option value=\"25126\">25126</option>\n",
      "<option value=\"25422\">25422</option>\n",
      "<option value=\"25702\">25702</option>\n",
      "<option value=\"25793\">25793</option>\n",
      "<option value=\"27159\">27159</option>\n",
      "<option value=\"27649\">27649</option>\n",
      "<option value=\"28080\">28080</option>\n",
      "<option value=\"30144\">30144</option>\n",
      "<option value=\"31525\">31525</option>\n",
      "<option value=\"31837\">31837</option>\n",
      "<option value=\"31878\">31878</option>\n",
      "<option value=\"32518\">32518</option>\n",
      "<option value=\"33031\">33031</option>\n",
      "<option value=\"33602\">33602</option>\n",
      "<option value=\"33684\">33684</option>\n",
      "<option value=\"33961\">33961</option>\n",
      "<option value=\"33998\">33998</option>\n",
      "<option value=\"34803\">34803</option>\n",
      "<option value=\"34857\">34857</option>\n",
      "<option value=\"35204\">35204</option>\n",
      "<option value=\"35210\">35210</option>\n",
      "<option value=\"35747\">35747</option>\n",
      "<option value=\"35778\">35778</option>\n",
      "<option value=\"36526\">36526</option>\n",
      "<option value=\"36753\">36753</option>\n",
      "<option value=\"37261\">37261</option>\n",
      "<option value=\"39968\">39968</option>\n",
      "<option value=\"40771\">40771</option>\n",
      "<option value=\"40944\">40944</option>\n",
      "<option value=\"42042\">42042</option>\n",
      "<option value=\"42329\">42329</option>\n",
      "<option value=\"44138\">44138</option>\n",
      "<option value=\"44634\">44634</option>\n",
      "<option value=\"45503\">45503</option>\n",
      "<option value=\"46004\">46004</option>\n",
      "<option value=\"46007\">46007</option>\n",
      "<option value=\"47180\">47180</option>\n",
      "<option value=\"47383\">47383</option>\n",
      "<option value=\"47462\">47462</option>\n",
      "<option value=\"49285\">49285</option>\n",
      "<option value=\"50277\">50277</option>\n",
      "<option value=\"50781\">50781</option>\n",
      "<option value=\"50972\">50972</option>\n",
      "<option value=\"51639\">51639</option>\n",
      "<option value=\"52424\">52424</option>\n",
      "<option value=\"53281\">53281</option>\n",
      "<option value=\"53402\">53402</option>\n",
      "<option value=\"54101\">54101</option>\n",
      "<option value=\"54263\">54263</option>\n",
      "<option value=\"55177\">55177</option>\n",
      "<option value=\"55336\">55336</option>\n",
      "<option value=\"55737\">55737</option>\n",
      "<option value=\"56328\">56328</option>\n",
      "<option value=\"56393\">56393</option>\n",
      "<option value=\"56564\">56564</option>\n",
      "<option value=\"57475\">57475</option>\n",
      "<option value=\"58166\">58166</option>\n",
      "<option value=\"58274\">58274</option>\n",
      "<option value=\"58760\">58760</option>\n",
      "<option value=\"58962\">58962</option>\n",
      "<option value=\"59377\">59377</option>\n",
      "<option value=\"59467\">59467</option>\n",
      "<option value=\"59927\">59927</option>\n",
      "<option value=\"65000\">65000</option>\n",
      "<option value=\"65410\">65410</option> </select>\n",
      "<select name=\"ssl\">\n",
      "<option selected=\"selected\" value=\"any\">HTTP and HTTPS</option>\n",
      "<option value=\"no\">HTTP</option>\n",
      "<option value=\"yes\">HTTPS</option> </select>\n",
      "</td>\n",
      "</tr>\n",
      "</table>\n",
      "<div class=\"clear\"></div>\n",
      "<div class=\"button-wrap\">\n",
      "<input class=\"button\" type=\"submit\" value=\"Search proxy servers\"/> </div>\n",
      "</form>\n",
      "</div>\n",
      "</div>\n",
      "<div class=\"section-title\">\n",
      "<div class=\"icon\"><!-- --></div>\n",
      "<h2>Download proxy list as txt, csv or xml</h2>\n",
      "<div class=\"clear\"></div>\n",
      "</div>\n",
      "<div class=\"left-space\">\n",
      "<p>You can download proxy list with personal download link. Contents of the links (proxy list) are updated every one minute. All links are web master script, tool and program freindly.</p>\n",
      "<div class=\"download\" id=\"download\">\n",
      "<input class=\"button\" type=\"button\" value=\"Download TXT file\"/>\n",
      "<div class=\"input-wrap\"><input class=\"input\" type=\"text\" value=\"http://proxy-list.org/english/yourproxylists/sample.txt\"/></div>\n",
      "<div class=\"clear\"></div>\n",
      "<input class=\"button\" type=\"button\" value=\"Download CSV file\"/>\n",
      "<div class=\"input-wrap\"><input class=\"input\" type=\"text\" value=\"http://proxy-list.org/english/yourproxylists/sample.csv\"/></div>\n",
      "<div class=\"clear\"></div>\n",
      "<input class=\"button\" type=\"button\" value=\"Download XML file\"/>\n",
      "<div class=\"input-wrap\"><input class=\"input\" type=\"text\" value=\"http://proxy-list.org/english/yourproxylists/sample.xml\"/></div>\n",
      "<div class=\"clear\"></div>\n",
      "</div>\n",
      "</div>\n",
      "</div>\n",
      "<div class=\"arrow\">\n",
      "<div class=\"arrow-left\"><!-- --></div>\n",
      "<div class=\"arrow-right\"><!-- --></div>\n",
      "<div class=\"arrow-devider\"><!-- --></div>\n",
      "<div class=\"clear\"></div>\n",
      "</div>\n",
      "<div class=\"footer\">\n",
      "<div class=\"footer-left\"><!-- --></div>\n",
      "<div class=\"footer-right\"><!-- --></div>\n",
      "<div class=\"footer-center\"><!-- --></div>\n",
      "<div class=\"clear\"></div>\n",
      "</div>\n",
      "</td>\n",
      "<td id=\"copyright\">\n",
      "<p>Copyright 2001-2017 © GeSoft. All rights reserved.</p>\n",
      "</td>\n",
      "</tr>\n",
      "</table>\n",
      "</div>\n",
      "<div id=\"membran\">\n",
      "<div class=\"popup\" id=\"popup1\">\n",
      "<div class=\"close-button\"><!-- --></div>\n",
      "<div class=\"warning-icon\"></div>\n",
      "<div class=\"popup-title\">WARNING!</div>\n",
      "<div class=\"popup-message\"></div>\n",
      "<div class=\"corner left-top\"><!-- --></div>\n",
      "<div class=\"corner left-bottom\"><!-- --></div>\n",
      "<div class=\"corner right-top\"><!-- --></div>\n",
      "<div class=\"corner right-bottom\"><!-- --></div>\n",
      "<div class=\"border-left\"><!-- --></div>\n",
      "<div class=\"border-right\"><!-- --></div>\n",
      "<div class=\"border-top\"><!-- --></div>\n",
      "<div class=\"border-bottom\"><!-- --></div>\n",
      "</div>\n",
      "</div>\n",
      "<script type=\"text/javascript\">\n",
      "var countryTableCells = jQuery('#proxy-table .country-code .name, #proxy-table-sample .country-code .name');\n",
      "var timerElement = jQuery('.timer strong');\n",
      "\n",
      "function UpdateProxyTable() {\n",
      "  return function(e) {\n",
      "    var cellWidth = countryTableCells.parent().outerWidth() - 18 - 3 - 4;\n",
      "    countryTableCells\n",
      "      .each(function(i) {\n",
      "        $(this).html(cellWidth > $(this).attr('space') ? $(this).attr('name') : $(this).attr('code'));\n",
      "      });\n",
      "  }\n",
      "}\n",
      "\n",
      "function UpdateTimer() {\n",
      "  var time = parseInt(timerElement.html(), 10);\n",
      "  if (time > 0) {\n",
      "    time -= 1;\n",
      "    timerElement.html(time);\n",
      "    setTimeout(UpdateTimer, 1000);\n",
      "    return;\n",
      "  }\n",
      "  timerElement\n",
      "    .parent()\n",
      "      .html('<a href=\"./index.php\">click to update proxy</a>');\n",
      "}\n",
      "\n",
      "jQuery(document).ready(function($) {\n",
      "  jQuery('#form-search select')\n",
      "    .change(function(e) {\n",
      "       var country = jQuery('#form-search select[name=country]').val();\n",
      "       var type = jQuery('#form-search select[name=type]').val();\n",
      "       var port = jQuery('#form-search select[name=port]').val();\n",
      "       var ssl = jQuery('#form-search select[name=ssl]').val();\n",
      "       var search = [];\n",
      "       if (country != 'any') search.push(country);\n",
      "       if (type != 'any') search.push(type);\n",
      "       if (port != 'any') search.push(port);\n",
      "       if (ssl != 'any') search.push('ssl-'+ssl);\n",
      "       jQuery('#form-search input[name=search]').val(search.join('.'));\n",
      "    });\n",
      "\n",
      "  jQuery('#download .button')\n",
      "    .click(function(e) {\n",
      "      jQuery('#membran, #popup1')\n",
      "        .fadeOut('fast');\n",
      "      jQuery('#popup1')\n",
      "        .find('.popup-title')\n",
      "          .html('PLEASE LOGIN!')\n",
      "        .end()\n",
      "        .find('.popup-message')\n",
      "          .html('Only registered members are allowed to download proxy list.');\n",
      "      jQuery('#membran, #popup1')\n",
      "        .fadeIn('fast');\n",
      "    });\n",
      "\n",
      "  countryTableCells\n",
      "    .each(function(i) {\n",
      "      var rawData = $(this).html().split(' ', 2);\n",
      "      $(this).attr('code', rawData[0]);\n",
      "      $(this).attr('name', rawData[1]);\n",
      "\n",
      "      $(this).hide();\n",
      "      $(this).html(rawData[1]);\n",
      "      $(this).attr('space', $(this).outerWidth());\n",
      "      $(this).html(rawData[0]);\n",
      "      $(this).show();\n",
      "    });\n",
      "\n",
      "  $(window).resize(UpdateProxyTable());\n",
      "  UpdateProxyTable()();\n",
      "\n",
      "  function MoveMembran(resize) {\n",
      "  return function(e) {\n",
      "    if (typeof resize === 'undefined') resize = false;\n",
      "    var membranElement = jQuery('#membran');\n",
      "    if ((resize)||(membranElement.css('top') != jQuery(document).scrollTop()+'px'))\n",
      "      membranElement\n",
      "        .css('position', 'absolute')\n",
      "        .css('top', jQuery(document).scrollTop()+'px')\n",
      "        .css('width', Math.max(jQuery(document).width(), jQuery(window).width())+'px')\n",
      "        .css('height', jQuery(window).height()+'px');\n",
      "  }\n",
      "}\n",
      "\n",
      "if (/MSIE\\s([\\d.]+)/.test(navigator.userAgent))\n",
      "jQuery(window)\n",
      "  .scroll(MoveMembran())\n",
      "  .resize(MoveMembran(true));\n",
      "\n",
      "if (/MSIE\\s([\\d.]+)/.test(navigator.userAgent)) {\n",
      "jQuery('.login input:password')\n",
      "  .each(function(i) {\n",
      "    var orgnInput = $(this);\n",
      "    var fakeInput = jQuery('<input type=\"test\">')\n",
      "      .val($(this).attr('placeholder'))\n",
      "      .focus(function(e) {\n",
      "        $(this).hide();\n",
      "        orgnInput\n",
      "          .show()\n",
      "          .focus();\n",
      "      });\n",
      "    orgnInput\n",
      "      .blur(function(e) {\n",
      "        if ($(this).val() == '') {\n",
      "          orgnInput\n",
      "            .hide();\n",
      "          fakeInput\n",
      "            .show();\n",
      "        }\n",
      "      })\n",
      "      .hide()\n",
      "      .parent()\n",
      "        .append(fakeInput);\n",
      "  });\n",
      "\n",
      "jQuery('.login input:text')\n",
      "  .each(function(i) {\n",
      "     $(this).val($(this).attr('placeholder'));\n",
      "  })\n",
      "  .focus(function(e) {\n",
      "    if ($(this).val() == $(this).attr('placeholder'))\n",
      "      $(this).val('');\n",
      "  })\n",
      "  .blur(function(e) {\n",
      "    if ($(this).val() == '')\n",
      "      $(this).val($(this).attr('placeholder'));\n",
      "  })\n",
      "}\n",
      "\n",
      "var remindFormElement = jQuery('#remind-form')\n",
      ".hide();\n",
      "\n",
      "jQuery('#forget')\n",
      ".click(function(e) {\n",
      "  (remindFormElement.is(\":visible\")) ? remindFormElement.fadeOut('fast') : remindFormElement.fadeIn('fast');\n",
      "});\n",
      "\n",
      "jQuery('#membran .close-button')\n",
      ".click(function(e) {\n",
      "  $(this)\n",
      "    .parent()\n",
      "      .fadeOut('fast')\n",
      "    .parent()\n",
      "      .fadeOut('fast');\n",
      "});\n",
      "\n",
      "jQuery('#login')\n",
      ".click(function(e) {\n",
      "  jQuery('#membran, #popup1')\n",
      "    .fadeOut('fast');\n",
      "  jQuery('#popup1')\n",
      "    .find('.popup-title')\n",
      "      .html('INFORMATION')\n",
      "    .end()\n",
      "    .find('.popup-message')\n",
      "      .html('Trying to log in to member area, please wait...');\n",
      "  jQuery('#membran, #popup1')\n",
      "    .filter(':not(:animated)')\n",
      "      .fadeIn('fast').promise().done(function() {\n",
      "        Login(function(reply) {\n",
      "          reply = reply.split('|');\n",
      "          message = 'Unknown problem with authentication, please contact support!';\n",
      "          if (reply[0] == 'OK') {\n",
      "            message = reply[1];\n",
      "            window.location.href = 'http://proxy-list.org/english/member.php';\n",
      "            return true;\n",
      "          } else if (reply[0] == 'ERROR') {\n",
      "            message = reply[1];\n",
      "          }\n",
      "          jQuery('#shadow, #popup1')\n",
      "            .fadeOut('fast', function() {\n",
      "              jQuery('#membran, #popup1')\n",
      "                .fadeOut('fast');\n",
      "              jQuery('#popup1')\n",
      "                .find('.popup-title')\n",
      "                  .html('WARNING')\n",
      "                .end()\n",
      "                .find('.popup-message')\n",
      "                  .html(message);\n",
      "              jQuery('#membran, #popup1')\n",
      "                .fadeIn('fast');\n",
      "            });\n",
      "        });\n",
      "      });\n",
      "});\n",
      "\n",
      "jQuery('#logout')\n",
      ".click(function(e) {\n",
      "  jQuery('#membran, #popup1')\n",
      "    .fadeOut('fast');\n",
      "  jQuery('#popup1')\n",
      "    .find('.popup-title')\n",
      "      .html('INFORMATION')\n",
      "    .end()\n",
      "    .find('.popup-message')\n",
      "      .html('Trying to log out, please wait...');\n",
      "  jQuery('#membran, #popup1')\n",
      "    .filter(':not(:animated)')\n",
      "      .fadeIn('fast').promise().done(function() {\n",
      "        Logout(function(reply) {\n",
      "          reply = reply.split('|');\n",
      "          message = 'Unknown problem with logout, please contact support!';\n",
      "          if (reply[0] == 'OK') {\n",
      "            message = reply[1];\n",
      "            window.location.href = 'http://proxy-list.org/english/index.php';\n",
      "            return true;\n",
      "          } else if (reply[0] == 'ERROR') {\n",
      "            message = reply[1];\n",
      "          }\n",
      "          jQuery('#shadow, #popup1')\n",
      "            .fadeOut('fast', function() {\n",
      "              jQuery('#membran, #popup1')\n",
      "                .fadeOut('fast');\n",
      "              jQuery('#popup1')\n",
      "                .find('.popup-title')\n",
      "                  .html('WARNING')\n",
      "                .end()\n",
      "                .find('.popup-message')\n",
      "                  .html(message);\n",
      "              jQuery('#membran, #popup1')\n",
      "                .fadeIn('fast');\n",
      "            });\n",
      "        });\n",
      "      });\n",
      "});\n",
      "\n",
      "jQuery('#remind')\n",
      ".click(function(e) {\n",
      "  jQuery('#membran, #popup1')\n",
      "    .fadeOut('fast');\n",
      "  jQuery('#popup1')\n",
      "    .find('.popup-title')\n",
      "      .html('INFORMATION')\n",
      "    .end()\n",
      "    .find('.popup-message')\n",
      "      .html('Searching your account, please wait...');\n",
      "  jQuery('#membran, #popup1')\n",
      "    .filter(':not(:animated)')\n",
      "      .fadeIn('fast').promise().done(function() {\n",
      "        Remind(function(reply) {\n",
      "          reply = reply.split('|');\n",
      "          message = 'Unknown problem with password reminder, please contact support!';\n",
      "          if (reply[0] == 'OK') {\n",
      "            title = 'INFORMATION';\n",
      "            message = reply[1];\n",
      "          } else if (reply[0] == 'ERROR') {\n",
      "            title = 'WARNING';\n",
      "            message = reply[1];\n",
      "          }\n",
      "          jQuery('#shadow, #popup1')\n",
      "            .fadeOut('fast', function() {\n",
      "              jQuery('#membran, #popup1')\n",
      "                .fadeOut('fast');\n",
      "              jQuery('#popup1')\n",
      "                .find('.popup-title')\n",
      "                  .html(title)\n",
      "                .end()\n",
      "                .find('.popup-message')\n",
      "                  .html(message);\n",
      "              jQuery('#membran, #popup1')\n",
      "                .fadeIn('fast');\n",
      "            });\n",
      "        });\n",
      "      });\n",
      "});\n",
      "  setTimeout(UpdateTimer, 1000);\n",
      "});\n",
      "</script>\n",
      "<!--Start of Zopim Live Chat Script-->\n",
      "<!--\r\n",
      "<script type=\"text/javascript\">\r\n",
      "window.$zopim||(function(d,s){var z=$zopim=function(c){z._.push(c)},$=z.s=\r\n",
      "d.createElement(s),e=d.getElementsByTagName(s)[0];z.set=function(o){z.set.\r\n",
      "_.push(o)};z._=[];z.set._=[];$.async=!0;$.setAttribute('charset','utf-8');\r\n",
      "$.src='//v2.zopim.com/?21tswozp3KH7d6GM8yq7q67M2YqxUZCl';z.t=+new Date;$.\r\n",
      "type='text/javascript';e.parentNode.insertBefore($,e)})(document,'script');\r\n",
      "</script>\r\n",
      "\r\n",
      "<script>\r\n",
      "$zopim(function() {\r\n",
      "  $zopim.livechat.button.setHideWhenOffline(true);\r\n",
      "});\r\n",
      "</script>\r\n",
      "-->\n",
      "<!--End of Zopim Live Chat Script-->\n",
      "<script type=\"text/javascript\">\r\n",
      "  var _gaq = _gaq || [];\r\n",
      "  _gaq.push(['_setAccount', 'UA-43201984-1']);\r\n",
      "  _gaq.push(['_setDomainName', 'proxy-list.org']);\r\n",
      "  _gaq.push(['_setAllowLinker', true]);\r\n",
      "    _gaq.push(['_trackPageview']);\r\n",
      "    \r\n",
      "  (function() {\r\n",
      "    var ga = document.createElement('script'); ga.type = 'text/javascript'; ga.async = true;\r\n",
      "    ga.src = ('https:' == document.location.protocol ? 'https://ssl' : 'http://www') + '.google-analytics.com/ga.js';\r\n",
      "    var s = document.getElementsByTagName('script')[0]; s.parentNode.insertBefore(ga, s);\r\n",
      "  })();\r\n",
      "\r\n",
      "  // Track basic JavaScript errors\r\n",
      "  window.addEventListener('error', function(e) {\r\n",
      "    _gaq.push([\r\n",
      "      '_trackEvent',\r\n",
      "      'JavaScript Error',\r\n",
      "      e.message,\r\n",
      "      e.filename + ':  ' + e.lineno,\r\n",
      "      true\r\n",
      "    ]);\r\n",
      "  });\r\n",
      "</script>\n",
      "<script type=\"text/javascript\">\r\n",
      "(function (d, w, c) {\r\n",
      "    (w[c] = w[c] || []).push(function() {\r\n",
      "        try {\r\n",
      "            w.yaCounter24577874 = new Ya.Metrika({id:24577874,\r\n",
      "                    webvisor:true,\r\n",
      "                    clickmap:true,\r\n",
      "                    trackLinks:true,\r\n",
      "                    accurateTrackBounce:true});\r\n",
      "        } catch(e) { }\r\n",
      "    });\r\n",
      "\r\n",
      "    var n = d.getElementsByTagName(\"script\")[0],\r\n",
      "        s = d.createElement(\"script\"),\r\n",
      "        f = function () { n.parentNode.insertBefore(s, n); };\r\n",
      "    s.type = \"text/javascript\";\r\n",
      "    s.async = true;\r\n",
      "    s.src = (d.location.protocol == \"https:\" ? \"https:\" : \"http:\") + \"//mc.yandex.ru/metrika/watch.js\";\r\n",
      "\r\n",
      "    if (w.opera == \"[object Opera]\") {\r\n",
      "        d.addEventListener(\"DOMContentLoaded\", f, false);\r\n",
      "    } else { f(); }\r\n",
      "})(document, window, \"yandex_metrika_callbacks\");\r\n",
      "</script>\n",
      "<noscript><div><img alt=\"\" src=\"//mc.yandex.ru/watch/24577874\" style=\"position:absolute; left:-9999px;\"/></div></noscript>\n",
      "</body>\n"
     ]
    }
   ],
   "source": [
    "proxy_data = requests.get('https://proxy-list.org/english/index.php?p='+str(1)).content\n",
    "headers = \n",
    "proxy_soup = BeautifulSoup(proxy_data,'lxml')\n",
    "#map (lambda t: re.compile(r'\\d+\\.\\d+\\.\\d+\\.\\d+').search(t).group()+':'+re.compile('(?:<td>)(\\d+)(?:</td>)').search(t).group(0), proxy_soup.body.find('div',{'class':'table-responsive'}).tbody.find_all('tr')\n",
    "#tlist = proxy_soup.body.tbody.tr.find(id=\"content\").find('div',{'class':'table'})\n",
    "tlist = proxy_soup.body\n",
    "print tlist"
   ]
  },
  {
   "cell_type": "code",
   "execution_count": null,
   "metadata": {
    "collapsed": true,
    "deletable": true,
    "editable": true
   },
   "outputs": [],
   "source": [
    "    for t in tlist:\n",
    "        if re.compile(r'\\d+\\.\\d+\\.\\d+\\.\\d+').search(t.text) == None:\n",
    "            continue\n",
    "        ip = re.compile(r'\\d+\\.\\d+\\.\\d+\\.\\d+').search(t.text).group().encode('ascii', 'ignore')\n",
    "        port = re.compile(r'(?:<td>)(\\d+)(?:</td>)').search(str(t)).group(1)\n",
    "        proxy_list.append(ip+':'+port)\n",
    "        print ip+':'+port"
   ]
  },
  {
   "cell_type": "code",
   "execution_count": 2,
   "metadata": {
    "collapsed": true,
    "deletable": true,
    "editable": true
   },
   "outputs": [],
   "source": [
    "headers = {'Cookie': r'gr_user_id=846d849d-96db-4525-8ae9-c48c1f3fe4cd; tulu_pop=1; PHPSESSID=losun7v447o6hga8kevgndsoq3; _at_pt_0_=2265228; _at_pt_1_=dzl199401; _at_pt_2_=b6e45aeeb11f908546b0378897fb6b81; artron_67ae_saltkey=k5C1F0dH; artron_67ae_lastvisit=1492009218; artron_67ae_sid=YaM0vp; artron_67ae_lastact=1492012818%09uc.php%09; artron_67ae_auth=1887uS6yy%2FNd4XpDdZyC466kWXxsC6C%2BwBxso4oZfLJ2aABH4EgWMEGWEceyMYI2O12Nd27GXMdQBxv4a9NC8drbqpPL; gr_session_id_276fdc71b3c353173f111df9361be1bb=082b1942-f46f-4568-b8c1-3823fbe6a7b9; Hm_lvt_851619594aa1d1fb8c108cde832cc127=1491779761,1491799064,1492011702; Hm_lpvt_851619594aa1d1fb8c108cde832cc127=1492012822'}\n",
    "data = requests.get('http://auction.artron.net/paimai-art5021720916/', headers = headers).content"
   ]
  },
  {
   "cell_type": "code",
   "execution_count": 3,
   "metadata": {
    "collapsed": false,
    "deletable": true,
    "editable": true
   },
   "outputs": [],
   "source": [
    "soup = BeautifulSoup(data, 'lxml')"
   ]
  },
  {
   "cell_type": "code",
   "execution_count": 4,
   "metadata": {
    "collapsed": false,
    "deletable": true,
    "editable": true,
    "scrolled": false
   },
   "outputs": [
    {
     "name": "stdout",
     "output_type": "stream",
     "text": [
      "作者\n",
      "-------------\n",
      "尺寸\n",
      "-------------\n",
      "作品分类\n",
      "-------------\n",
      "创作年代\n",
      "-------------\n",
      "估价\n",
      "-------------\n",
      "成交价\n",
      "-------------\n",
      "专场\n",
      "-------------\n",
      "拍卖时间\n",
      "-------------\n",
      "拍卖公司\n",
      "-------------\n",
      "拍卖会\n",
      "-------------\n",
      "\n",
      "-------------\n"
     ]
    }
   ],
   "source": [
    "for i in soup.find('div',{'class':'worksInfo'}, id ='').find_all('th'):\n",
    "    print i.text\n",
    "    print '-------------'"
   ]
  },
  {
   "cell_type": "code",
   "execution_count": 5,
   "metadata": {
    "collapsed": false,
    "deletable": true,
    "editable": true,
    "scrolled": false
   },
   "outputs": [
    {
     "name": "stdout",
     "output_type": "stream",
     "text": [
      "顾麟士  \t\n",
      "\n",
      "\t吴滔  \t\n",
      "\n",
      "\t张光  \t\n",
      "\t等\n",
      "----------------\n",
      "尺寸不一\n",
      "----------------\n",
      "中国书画>绘画\n",
      "----------------\n",
      "暂无\n",
      "----------------\n",
      "RMB 　3,900-6,240\n",
      "----------------\n",
      "未提供\n",
      "----------------\n",
      "中国古代书画\n",
      "----------------\n",
      "2012-09-06\n",
      "----------------\n",
      "株式会社东京中央拍卖\n",
      "----------------\n",
      "2012秋季拍卖会\n",
      "----------------\n",
      "款识：1.华平仁兄大人雅属 癸巳秋七月美滔。2.仿大痴秋山为伯刚内甥属顾麟士。3.七十八老人子祥张熊。4.子婿华蔺恭画。5.丁未新秋颉云仁兄大人属顾麟士。钤印：伯滔（朱）、鹤逸（白）、张熊之印蔺（白）、鹤逸（朱）\n",
      "----------------\n"
     ]
    }
   ],
   "source": [
    "for i in soup.find('div',{'class':'worksInfo'}, id ='').find_all('td'):\n",
    "    print i.text.strip()\n",
    "    print '----------------'"
   ]
  },
  {
   "cell_type": "code",
   "execution_count": 19,
   "metadata": {
    "collapsed": false,
    "deletable": true,
    "editable": true
   },
   "outputs": [
    {
     "data": {
      "text/plain": [
       "'http://img3.artron.net/auction/2012/art502172/d/art5021720916.jpg'"
      ]
     },
     "execution_count": 19,
     "metadata": {},
     "output_type": "execute_result"
    }
   ],
   "source": [
    "soup.body.find('img')['src']"
   ]
  },
  {
   "cell_type": "code",
   "execution_count": 22,
   "metadata": {
    "collapsed": false,
    "deletable": true,
    "editable": true
   },
   "outputs": [],
   "source": [
    "from pymongo import MongoClient"
   ]
  },
  {
   "cell_type": "code",
   "execution_count": 23,
   "metadata": {
    "collapsed": true,
    "deletable": true,
    "editable": true
   },
   "outputs": [],
   "source": [
    "client = MongoClient('localhost', 27017)"
   ]
  },
  {
   "cell_type": "code",
   "execution_count": 117,
   "metadata": {
    "collapsed": false,
    "deletable": true,
    "editable": true
   },
   "outputs": [
    {
     "data": {
      "text/plain": [
       "[u'admin', u'art_work_database', u'local', u'test']"
      ]
     },
     "execution_count": 117,
     "metadata": {},
     "output_type": "execute_result"
    }
   ],
   "source": [
    "client.database_names()"
   ]
  },
  {
   "cell_type": "code",
   "execution_count": 118,
   "metadata": {
    "collapsed": false,
    "deletable": true,
    "editable": true
   },
   "outputs": [],
   "source": [
    "db = client.art_work_database"
   ]
  },
  {
   "cell_type": "code",
   "execution_count": 119,
   "metadata": {
    "collapsed": false,
    "deletable": true,
    "editable": true
   },
   "outputs": [
    {
     "data": {
      "text/plain": [
       "[u'posts', u'art_info_collecntion', u'art_work_collection']"
      ]
     },
     "execution_count": 119,
     "metadata": {},
     "output_type": "execute_result"
    }
   ],
   "source": [
    "db.collection_names()"
   ]
  },
  {
   "cell_type": "code",
   "execution_count": 74,
   "metadata": {
    "collapsed": false,
    "deletable": true,
    "editable": true
   },
   "outputs": [
    {
     "name": "stdout",
     "output_type": "stream",
     "text": [
      " 钤印：老素题识：芳草西池路，柴荆三四家。忆曾骑款段，随意入桃花。拟应韵亭大人雅属。竹西朱本。\n",
      "\n",
      "专场 重要私人珍藏——四方斋珍藏\n",
      "\n",
      "估价 RMB 　30,000-50,000\n",
      "\n",
      "拍卖公司 中国嘉德国际拍卖有限公司\n",
      "\n",
      "成交价 流拍\n",
      "\n",
      "拍卖会 中国嘉德2014秋季拍卖会\n",
      "\n",
      "说明 作者简介：朱本，江苏扬州人。字素人，号溉夫，自署竹西。书学赵孟頫得其神似。工山水，苍茫深秀以墨晕胜。兼善花鸟、人物，细密清隽。寓京师与兄文新、泰州朱鹤年并称“长安三朱”。\n",
      "\n",
      "url http://auction.artron.net/paimai-art5060901461/\n",
      "\n",
      "作者 朱本\n",
      "\n",
      "作品分类 中国书画>绘画\n",
      "\n",
      "尺寸 18×55cm\n",
      "\n",
      "_id 58ee904da6d215054e692252\n",
      "\n",
      "img_url http://img3.artron.net/auction/2014/art506090/d/art5060901461.jpg\n",
      "\n",
      "创作年代 暂无\n",
      "\n",
      "拍卖时间 2014-11-22\n",
      "\n"
     ]
    }
   ],
   "source": [
    "data_set = db.posts.find_one()\n",
    "for line in data_set:\n",
    "    print line, data_set[line]\n",
    "    print"
   ]
  },
  {
   "cell_type": "code",
   "execution_count": 80,
   "metadata": {
    "collapsed": false,
    "deletable": true,
    "editable": true
   },
   "outputs": [
    {
     "data": {
      "text/plain": [
       "u'work_id_1'"
      ]
     },
     "execution_count": 80,
     "metadata": {},
     "output_type": "execute_result"
    }
   ],
   "source": [
    "db.art_work_collection.create_index('work_id')"
   ]
  },
  {
   "cell_type": "code",
   "execution_count": 120,
   "metadata": {
    "collapsed": true,
    "deletable": true,
    "editable": true
   },
   "outputs": [],
   "source": [
    "aic = db.art_work_collection"
   ]
  },
  {
   "cell_type": "code",
   "execution_count": 85,
   "metadata": {
    "collapsed": false,
    "deletable": true,
    "editable": true
   },
   "outputs": [
    {
     "name": "stderr",
     "output_type": "stream",
     "text": [
      "/Users/dongzhangliang/anaconda/lib/python2.7/site-packages/ipykernel/__main__.py:1: DeprecationWarning: find_and_modify is deprecated, use find_one_and_delete, find_one_and_replace, or find_one_and_update instead\n",
      "  if __name__ == '__main__':\n"
     ]
    },
    {
     "ename": "ValueError",
     "evalue": "Must either update or remove",
     "output_type": "error",
     "traceback": [
      "\u001b[0;31m---------------------------------------------------------------------------\u001b[0m",
      "\u001b[0;31mValueError\u001b[0m                                Traceback (most recent call last)",
      "\u001b[0;32m<ipython-input-85-35d67ddb6806>\u001b[0m in \u001b[0;36m<module>\u001b[0;34m()\u001b[0m\n\u001b[0;32m----> 1\u001b[0;31m \u001b[0maic\u001b[0m\u001b[0;34m.\u001b[0m\u001b[0mfind_and_modify\u001b[0m\u001b[0;34m(\u001b[0m\u001b[0;34m)\u001b[0m\u001b[0;34m\u001b[0m\u001b[0m\n\u001b[0m",
      "\u001b[0;32m/Users/dongzhangliang/anaconda/lib/python2.7/site-packages/pymongo/collection.pyc\u001b[0m in \u001b[0;36mfind_and_modify\u001b[0;34m(self, query, update, upsert, sort, full_response, manipulate, **kwargs)\u001b[0m\n\u001b[1;32m   2539\u001b[0m \u001b[0;34m\u001b[0m\u001b[0m\n\u001b[1;32m   2540\u001b[0m         \u001b[0;32mif\u001b[0m \u001b[0;32mnot\u001b[0m \u001b[0mupdate\u001b[0m \u001b[0;32mand\u001b[0m \u001b[0;32mnot\u001b[0m \u001b[0mkwargs\u001b[0m\u001b[0;34m.\u001b[0m\u001b[0mget\u001b[0m\u001b[0;34m(\u001b[0m\u001b[0;34m'remove'\u001b[0m\u001b[0;34m,\u001b[0m \u001b[0mNone\u001b[0m\u001b[0;34m)\u001b[0m\u001b[0;34m:\u001b[0m\u001b[0;34m\u001b[0m\u001b[0m\n\u001b[0;32m-> 2541\u001b[0;31m             \u001b[0;32mraise\u001b[0m \u001b[0mValueError\u001b[0m\u001b[0;34m(\u001b[0m\u001b[0;34m\"Must either update or remove\"\u001b[0m\u001b[0;34m)\u001b[0m\u001b[0;34m\u001b[0m\u001b[0m\n\u001b[0m\u001b[1;32m   2542\u001b[0m \u001b[0;34m\u001b[0m\u001b[0m\n\u001b[1;32m   2543\u001b[0m         \u001b[0;32mif\u001b[0m \u001b[0mupdate\u001b[0m \u001b[0;32mand\u001b[0m \u001b[0mkwargs\u001b[0m\u001b[0;34m.\u001b[0m\u001b[0mget\u001b[0m\u001b[0;34m(\u001b[0m\u001b[0;34m'remove'\u001b[0m\u001b[0;34m,\u001b[0m \u001b[0mNone\u001b[0m\u001b[0;34m)\u001b[0m\u001b[0;34m:\u001b[0m\u001b[0;34m\u001b[0m\u001b[0m\n",
      "\u001b[0;31mValueError\u001b[0m: Must either update or remove"
     ]
    }
   ],
   "source": [
    "aic.find_and_modify()"
   ]
  },
  {
   "cell_type": "code",
   "execution_count": 121,
   "metadata": {
    "collapsed": false,
    "deletable": true,
    "editable": true
   },
   "outputs": [
    {
     "name": "stdout",
     "output_type": "stream",
     "text": [
      "{u'url': u'http://auction.artron.net/paimai-art0064710009', u'_id': ObjectId('58ee9bec133c1c063c1d5046'), u'geolocCountry': u'myGeolocCountry', u'isGot': False}\n"
     ]
    }
   ],
   "source": [
    "a = aic.find_one()\n",
    "a_new = a\n",
    "a_new['url'] = a['url'].replace('\\n','')\n",
    "aic.replace_one(a, a_new)\n",
    "aic.update_one(a,{\"$set\": {\"a\": 'myGeolocCountry'}})\n",
    "print a_new"
   ]
  },
  {
   "cell_type": "code",
   "execution_count": 100,
   "metadata": {
    "collapsed": true
   },
   "outputs": [],
   "source": [
    "for a in aic.find():\n",
    "    a = aic.find_one()\n",
    "    a_new = a\n",
    "    a_new['url'] = a['url'].replace('\\n','')\n",
    "    aic.replace_one(a, a_new)"
   ]
  },
  {
   "cell_type": "code",
   "execution_count": 115,
   "metadata": {
    "collapsed": false,
    "scrolled": true
   },
   "outputs": [
    {
     "name": "stdout",
     "output_type": "stream",
     "text": [
      "{u'url': u'http://auction.artron.net/paimai-art0064710009', u'_id': ObjectId('58ee9bec133c1c063c1d5046'), u'geolocCountry': u'myGeolocCountry', u'isGot': False}\n"
     ]
    }
   ],
   "source": [
    "a = aic.find_one()\n",
    "print a "
   ]
  },
  {
   "cell_type": "code",
   "execution_count": 139,
   "metadata": {
    "collapsed": false,
    "scrolled": true
   },
   "outputs": [
    {
     "ename": "ServerSelectionTimeoutError",
     "evalue": "localhost:27017: [Errno 61] Connection refused",
     "output_type": "error",
     "traceback": [
      "\u001b[0;31m---------------------------------------------------------------------------\u001b[0m",
      "\u001b[0;31mServerSelectionTimeoutError\u001b[0m               Traceback (most recent call last)",
      "\u001b[0;32m<ipython-input-139-3a8ca9614421>\u001b[0m in \u001b[0;36m<module>\u001b[0;34m()\u001b[0m\n\u001b[1;32m      1\u001b[0m \u001b[0;32mfor\u001b[0m \u001b[0mi\u001b[0m \u001b[0;32min\u001b[0m \u001b[0mrange\u001b[0m\u001b[0;34m(\u001b[0m\u001b[0;36m10\u001b[0m\u001b[0;34m)\u001b[0m\u001b[0;34m:\u001b[0m\u001b[0;34m\u001b[0m\u001b[0m\n\u001b[0;32m----> 2\u001b[0;31m     \u001b[0;32mprint\u001b[0m \u001b[0maic\u001b[0m\u001b[0;34m.\u001b[0m\u001b[0mfind\u001b[0m\u001b[0;34m(\u001b[0m\u001b[0;34m)\u001b[0m\u001b[0;34m[\u001b[0m\u001b[0mi\u001b[0m\u001b[0;34m]\u001b[0m\u001b[0;34m\u001b[0m\u001b[0m\n\u001b[0m",
      "\u001b[0;32m/Users/dongzhangliang/anaconda/lib/python2.7/site-packages/pymongo/cursor.pyc\u001b[0m in \u001b[0;36m__getitem__\u001b[0;34m(self, index)\u001b[0m\n\u001b[1;32m    566\u001b[0m             \u001b[0mclone\u001b[0m\u001b[0;34m.\u001b[0m\u001b[0mskip\u001b[0m\u001b[0;34m(\u001b[0m\u001b[0mindex\u001b[0m \u001b[0;34m+\u001b[0m \u001b[0mself\u001b[0m\u001b[0;34m.\u001b[0m\u001b[0m__skip\u001b[0m\u001b[0;34m)\u001b[0m\u001b[0;34m\u001b[0m\u001b[0m\n\u001b[1;32m    567\u001b[0m             \u001b[0mclone\u001b[0m\u001b[0;34m.\u001b[0m\u001b[0mlimit\u001b[0m\u001b[0;34m(\u001b[0m\u001b[0;34m-\u001b[0m\u001b[0;36m1\u001b[0m\u001b[0;34m)\u001b[0m  \u001b[0;31m# use a hard limit\u001b[0m\u001b[0;34m\u001b[0m\u001b[0m\n\u001b[0;32m--> 568\u001b[0;31m             \u001b[0;32mfor\u001b[0m \u001b[0mdoc\u001b[0m \u001b[0;32min\u001b[0m \u001b[0mclone\u001b[0m\u001b[0;34m:\u001b[0m\u001b[0;34m\u001b[0m\u001b[0m\n\u001b[0m\u001b[1;32m    569\u001b[0m                 \u001b[0;32mreturn\u001b[0m \u001b[0mdoc\u001b[0m\u001b[0;34m\u001b[0m\u001b[0m\n\u001b[1;32m    570\u001b[0m             \u001b[0;32mraise\u001b[0m \u001b[0mIndexError\u001b[0m\u001b[0;34m(\u001b[0m\u001b[0;34m\"no such item for Cursor instance\"\u001b[0m\u001b[0;34m)\u001b[0m\u001b[0;34m\u001b[0m\u001b[0m\n",
      "\u001b[0;32m/Users/dongzhangliang/anaconda/lib/python2.7/site-packages/pymongo/cursor.pyc\u001b[0m in \u001b[0;36mnext\u001b[0;34m(self)\u001b[0m\n\u001b[1;32m   1112\u001b[0m             \u001b[0;32mraise\u001b[0m \u001b[0mStopIteration\u001b[0m\u001b[0;34m\u001b[0m\u001b[0m\n\u001b[1;32m   1113\u001b[0m         \u001b[0m_db\u001b[0m \u001b[0;34m=\u001b[0m \u001b[0mself\u001b[0m\u001b[0;34m.\u001b[0m\u001b[0m__collection\u001b[0m\u001b[0;34m.\u001b[0m\u001b[0mdatabase\u001b[0m\u001b[0;34m\u001b[0m\u001b[0m\n\u001b[0;32m-> 1114\u001b[0;31m         \u001b[0;32mif\u001b[0m \u001b[0mlen\u001b[0m\u001b[0;34m(\u001b[0m\u001b[0mself\u001b[0m\u001b[0;34m.\u001b[0m\u001b[0m__data\u001b[0m\u001b[0;34m)\u001b[0m \u001b[0;32mor\u001b[0m \u001b[0mself\u001b[0m\u001b[0;34m.\u001b[0m\u001b[0m_refresh\u001b[0m\u001b[0;34m(\u001b[0m\u001b[0;34m)\u001b[0m\u001b[0;34m:\u001b[0m\u001b[0;34m\u001b[0m\u001b[0m\n\u001b[0m\u001b[1;32m   1115\u001b[0m             \u001b[0;32mif\u001b[0m \u001b[0mself\u001b[0m\u001b[0;34m.\u001b[0m\u001b[0m__manipulate\u001b[0m\u001b[0;34m:\u001b[0m\u001b[0;34m\u001b[0m\u001b[0m\n\u001b[1;32m   1116\u001b[0m                 return _db._fix_outgoing(self.__data.popleft(),\n",
      "\u001b[0;32m/Users/dongzhangliang/anaconda/lib/python2.7/site-packages/pymongo/cursor.pyc\u001b[0m in \u001b[0;36m_refresh\u001b[0;34m(self)\u001b[0m\n\u001b[1;32m   1034\u001b[0m                                        \u001b[0mself\u001b[0m\u001b[0;34m.\u001b[0m\u001b[0m__batch_size\u001b[0m\u001b[0;34m,\u001b[0m\u001b[0;34m\u001b[0m\u001b[0m\n\u001b[1;32m   1035\u001b[0m                                        \u001b[0mself\u001b[0m\u001b[0;34m.\u001b[0m\u001b[0m__read_concern\u001b[0m\u001b[0;34m,\u001b[0m\u001b[0;34m\u001b[0m\u001b[0m\n\u001b[0;32m-> 1036\u001b[0;31m                                        self.__collation))\n\u001b[0m\u001b[1;32m   1037\u001b[0m             \u001b[0;32mif\u001b[0m \u001b[0;32mnot\u001b[0m \u001b[0mself\u001b[0m\u001b[0;34m.\u001b[0m\u001b[0m__id\u001b[0m\u001b[0;34m:\u001b[0m\u001b[0;34m\u001b[0m\u001b[0m\n\u001b[1;32m   1038\u001b[0m                 \u001b[0mself\u001b[0m\u001b[0;34m.\u001b[0m\u001b[0m__killed\u001b[0m \u001b[0;34m=\u001b[0m \u001b[0mTrue\u001b[0m\u001b[0;34m\u001b[0m\u001b[0m\n",
      "\u001b[0;32m/Users/dongzhangliang/anaconda/lib/python2.7/site-packages/pymongo/cursor.pyc\u001b[0m in \u001b[0;36m__send_message\u001b[0;34m(self, operation)\u001b[0m\n\u001b[1;32m    871\u001b[0m             \u001b[0;32mtry\u001b[0m\u001b[0;34m:\u001b[0m\u001b[0;34m\u001b[0m\u001b[0m\n\u001b[1;32m    872\u001b[0m                 response = client._send_message_with_response(operation,\n\u001b[0;32m--> 873\u001b[0;31m                                                               **kwargs)\n\u001b[0m\u001b[1;32m    874\u001b[0m                 \u001b[0mself\u001b[0m\u001b[0;34m.\u001b[0m\u001b[0m__address\u001b[0m \u001b[0;34m=\u001b[0m \u001b[0mresponse\u001b[0m\u001b[0;34m.\u001b[0m\u001b[0maddress\u001b[0m\u001b[0;34m\u001b[0m\u001b[0m\n\u001b[1;32m    875\u001b[0m                 \u001b[0;32mif\u001b[0m \u001b[0mself\u001b[0m\u001b[0;34m.\u001b[0m\u001b[0m__exhaust\u001b[0m\u001b[0;34m:\u001b[0m\u001b[0;34m\u001b[0m\u001b[0m\n",
      "\u001b[0;32m/Users/dongzhangliang/anaconda/lib/python2.7/site-packages/pymongo/mongo_client.pyc\u001b[0m in \u001b[0;36m_send_message_with_response\u001b[0;34m(self, operation, read_preference, exhaust, address)\u001b[0m\n\u001b[1;32m    886\u001b[0m         \u001b[0;32melse\u001b[0m\u001b[0;34m:\u001b[0m\u001b[0;34m\u001b[0m\u001b[0m\n\u001b[1;32m    887\u001b[0m             \u001b[0mselector\u001b[0m \u001b[0;34m=\u001b[0m \u001b[0mread_preference\u001b[0m \u001b[0;32mor\u001b[0m \u001b[0mwritable_server_selector\u001b[0m\u001b[0;34m\u001b[0m\u001b[0m\n\u001b[0;32m--> 888\u001b[0;31m             \u001b[0mserver\u001b[0m \u001b[0;34m=\u001b[0m \u001b[0mtopology\u001b[0m\u001b[0;34m.\u001b[0m\u001b[0mselect_server\u001b[0m\u001b[0;34m(\u001b[0m\u001b[0mselector\u001b[0m\u001b[0;34m)\u001b[0m\u001b[0;34m\u001b[0m\u001b[0m\n\u001b[0m\u001b[1;32m    889\u001b[0m \u001b[0;34m\u001b[0m\u001b[0m\n\u001b[1;32m    890\u001b[0m         \u001b[0;31m# A _Query's slaveOk bit is already set for queries with non-primary\u001b[0m\u001b[0;34m\u001b[0m\u001b[0;34m\u001b[0m\u001b[0m\n",
      "\u001b[0;32m/Users/dongzhangliang/anaconda/lib/python2.7/site-packages/pymongo/topology.pyc\u001b[0m in \u001b[0;36mselect_server\u001b[0;34m(self, selector, server_selection_timeout, address)\u001b[0m\n\u001b[1;32m    212\u001b[0m         return random.choice(self.select_servers(selector,\n\u001b[1;32m    213\u001b[0m                                                  \u001b[0mserver_selection_timeout\u001b[0m\u001b[0;34m,\u001b[0m\u001b[0;34m\u001b[0m\u001b[0m\n\u001b[0;32m--> 214\u001b[0;31m                                                  address))\n\u001b[0m\u001b[1;32m    215\u001b[0m \u001b[0;34m\u001b[0m\u001b[0m\n\u001b[1;32m    216\u001b[0m     def select_server_by_address(self, address,\n",
      "\u001b[0;32m/Users/dongzhangliang/anaconda/lib/python2.7/site-packages/pymongo/topology.pyc\u001b[0m in \u001b[0;36mselect_servers\u001b[0;34m(self, selector, server_selection_timeout, address)\u001b[0m\n\u001b[1;32m    187\u001b[0m                 \u001b[0;32mif\u001b[0m \u001b[0mserver_timeout\u001b[0m \u001b[0;34m==\u001b[0m \u001b[0;36m0\u001b[0m \u001b[0;32mor\u001b[0m \u001b[0mnow\u001b[0m \u001b[0;34m>\u001b[0m \u001b[0mend_time\u001b[0m\u001b[0;34m:\u001b[0m\u001b[0;34m\u001b[0m\u001b[0m\n\u001b[1;32m    188\u001b[0m                     raise ServerSelectionTimeoutError(\n\u001b[0;32m--> 189\u001b[0;31m                         self._error_message(selector))\n\u001b[0m\u001b[1;32m    190\u001b[0m \u001b[0;34m\u001b[0m\u001b[0m\n\u001b[1;32m    191\u001b[0m                 \u001b[0mself\u001b[0m\u001b[0;34m.\u001b[0m\u001b[0m_ensure_opened\u001b[0m\u001b[0;34m(\u001b[0m\u001b[0;34m)\u001b[0m\u001b[0;34m\u001b[0m\u001b[0m\n",
      "\u001b[0;31mServerSelectionTimeoutError\u001b[0m: localhost:27017: [Errno 61] Connection refused"
     ]
    }
   ],
   "source": [
    "for i in range(10):\n",
    "    print aic.find()[i]"
   ]
  },
  {
   "cell_type": "code",
   "execution_count": 142,
   "metadata": {
    "collapsed": false
   },
   "outputs": [
    {
     "data": {
      "text/plain": [
       "<pymongo.results.UpdateResult at 0x110d88be0>"
      ]
     },
     "execution_count": 142,
     "metadata": {},
     "output_type": "execute_result"
    }
   ],
   "source": [
    "aic.update_many({},{\"$set\":{'isGot': False}})"
   ]
  },
  {
   "cell_type": "code",
   "execution_count": 114,
   "metadata": {
    "collapsed": false
   },
   "outputs": [
    {
     "name": "stdout",
     "output_type": "stream",
     "text": [
      "1\n"
     ]
    }
   ],
   "source": [
    "a = aic.find_one()\n",
    "if not a['isGot']:\n",
    "    print 1"
   ]
  },
  {
   "cell_type": "code",
   "execution_count": 140,
   "metadata": {
    "collapsed": false
   },
   "outputs": [
    {
     "data": {
      "text/plain": [
       "79600"
      ]
     },
     "execution_count": 140,
     "metadata": {},
     "output_type": "execute_result"
    }
   ],
   "source": [
    "aic.count()"
   ]
  },
  {
   "cell_type": "code",
   "execution_count": 148,
   "metadata": {
    "collapsed": false
   },
   "outputs": [
    {
     "data": {
      "text/plain": [
       "79599"
      ]
     },
     "execution_count": 148,
     "metadata": {},
     "output_type": "execute_result"
    }
   ],
   "source": [
    "aic.count({'isGot': False})"
   ]
  },
  {
   "cell_type": "code",
   "execution_count": 147,
   "metadata": {
    "collapsed": false,
    "scrolled": false
   },
   "outputs": [
    {
     "name": "stdout",
     "output_type": "stream",
     "text": [
      "专场 中国书画一\n",
      "\n",
      "估价 RMB 　1,000-1,000\n",
      "\n",
      "拍卖公司 安徽新艺占拍卖有限公司\n",
      "\n",
      "isGot True\n",
      "\n",
      "url http://auction.artron.net/paimai-art0064710009\n",
      "\n",
      "拍卖会 第二十六届中国书画专场拍卖会\n",
      "\n",
      "二维码 雅昌拍卖图录推荐使用此APP扫描二维码\n",
      "\n",
      "作者 陈达\n",
      "\n",
      "作品分类 中国书画>绘画\n",
      "\n",
      "尺寸 19×51cm\n",
      "\n",
      "_id 58eeb09d133c1c07e99d8b26\n",
      "\n",
      "img_url http://img2.artron.net/auction/2017/art006471/d/art0064710009.jpg\n",
      "\n",
      "创作年代 暂无\n",
      "\n",
      "拍卖时间 2017-04-16\n",
      "\n"
     ]
    }
   ],
   "source": [
    "a = aic.find_one()\n",
    "for line in a:\n",
    "    print line, a[line]\n",
    "    print "
   ]
  },
  {
   "cell_type": "code",
   "execution_count": 138,
   "metadata": {
    "collapsed": false
   },
   "outputs": [
    {
     "name": "stdout",
     "output_type": "stream",
     "text": [
      "{u'url': u'http://auction.artron.net/paimai-art0064710009', u'_id': ObjectId('58ee9bec133c1c063c1d5046'), u'geolocCountry': u'myGeolocCountry', u'isGot': False}\n",
      "True\n",
      "1\n",
      "{u'url': u'http://auction.artron.net/paimai-art0064710009', u'_id': ObjectId('58ee9bec133c1c063c1d5046'), u'geolocCountry': u'myGeolocCountry', u'isGot': True}\n"
     ]
    }
   ],
   "source": [
    "a = aic.find_one()\n",
    "print a\n",
    "_id = a['_id']\n",
    "a_new = a\n",
    "a_new['isGot'] = True\n",
    "print a_new['isGot']\n",
    "print aic.replace_one({'_id':_id}, a_new).matched_count\n",
    "print aic.find_one()"
   ]
  },
  {
   "cell_type": "code",
   "execution_count": 129,
   "metadata": {
    "collapsed": false
   },
   "outputs": [
    {
     "data": {
      "text/plain": [
       "{u'_id': ObjectId('58ee9bec133c1c063c1d5046'),\n",
       " u'geolocCountry': u'myGeolocCountry',\n",
       " u'isGot': True,\n",
       " u'url': u'http://auction.artron.net/paimai-art0064710009'}"
      ]
     },
     "execution_count": 129,
     "metadata": {},
     "output_type": "execute_result"
    }
   ],
   "source": [
    "a"
   ]
  },
  {
   "cell_type": "code",
   "execution_count": 137,
   "metadata": {
    "collapsed": false
   },
   "outputs": [
    {
     "name": "stdout",
     "output_type": "stream",
     "text": [
      "58ee9bec133c1c063c1d5046\n"
     ]
    },
    {
     "data": {
      "text/plain": [
       "{u'_id': ObjectId('58ee9bec133c1c063c1d5046'),\n",
       " u'geolocCountry': u'myGeolocCountry',\n",
       " u'isGot': False,\n",
       " u'url': u'http://auction.artron.net/paimai-art0064710009'}"
      ]
     },
     "execution_count": 137,
     "metadata": {},
     "output_type": "execute_result"
    }
   ],
   "source": [
    "a = aic.find_one()\n",
    "_id = a['_id']\n",
    "print _id\n",
    "aic.find_one({'_id':_id})"
   ]
  }
 ],
 "metadata": {
  "kernelspec": {
   "display_name": "Python 2",
   "language": "python",
   "name": "python2"
  },
  "language_info": {
   "codemirror_mode": {
    "name": "ipython",
    "version": 2
   },
   "file_extension": ".py",
   "mimetype": "text/x-python",
   "name": "python",
   "nbconvert_exporter": "python",
   "pygments_lexer": "ipython2",
   "version": "2.7.13"
  }
 },
 "nbformat": 4,
 "nbformat_minor": 2
}
