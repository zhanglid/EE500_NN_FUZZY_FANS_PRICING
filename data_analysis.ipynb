{
 "cells": [
  {
   "cell_type": "code",
   "execution_count": 1,
   "metadata": {
    "collapsed": true,
    "deletable": true,
    "editable": true
   },
   "outputs": [],
   "source": [
    "import numpy as np \n",
    "import pandas as pd"
   ]
  },
  {
   "cell_type": "code",
   "execution_count": 38,
   "metadata": {
    "collapsed": false,
    "deletable": true,
    "editable": true,
    "scrolled": true
   },
   "outputs": [],
   "source": [
    "myjson = open('data.json','r')\n",
    "num = 10\n",
    "data_list = []\n",
    "for line in myjson:\n",
    "    line = line.replace('\\n','')\n",
    "    data_list.append(line)\n",
    "data_json_str = \"[\" + ','.join(data_list) + \"]\"\n",
    "data_df = pd.read_json(data_json_str)"
   ]
  },
  {
   "cell_type": "code",
   "execution_count": 39,
   "metadata": {
    "collapsed": false,
    "deletable": true,
    "editable": true,
    "scrolled": false
   },
   "outputs": [],
   "source": [
    "data_df = data_df.drop(['_id', 'isGot', u'二维码'], axis=1)"
   ]
  },
  {
   "cell_type": "code",
   "execution_count": 41,
   "metadata": {
    "collapsed": false
   },
   "outputs": [
    {
     "data": {
      "text/html": [
       "<div>\n",
       "<table border=\"1\" class=\"dataframe\">\n",
       "  <thead>\n",
       "    <tr style=\"text-align: right;\">\n",
       "      <th></th>\n",
       "      <th></th>\n",
       "      <th>img_url</th>\n",
       "      <th>title</th>\n",
       "      <th>url</th>\n",
       "      <th>专场</th>\n",
       "      <th>估价</th>\n",
       "      <th>作品分类</th>\n",
       "      <th>作者</th>\n",
       "      <th>创作年代</th>\n",
       "      <th>尺寸</th>\n",
       "      <th>成交价</th>\n",
       "      <th>拍卖会</th>\n",
       "      <th>拍卖公司</th>\n",
       "      <th>拍卖时间</th>\n",
       "      <th>说明</th>\n",
       "    </tr>\n",
       "  </thead>\n",
       "  <tbody>\n",
       "    <tr>\n",
       "      <th>0</th>\n",
       "      <td>NaN</td>\n",
       "      <td>http://img5.artron.net/auction/2017/art006471/...</td>\n",
       "      <td>0009 山水 扇面 纸本</td>\n",
       "      <td>http://auction.artron.net/paimai-art0064710009/</td>\n",
       "      <td>中国书画一</td>\n",
       "      <td>RMB 　1,000-1,000</td>\n",
       "      <td>中国书画&gt;绘画</td>\n",
       "      <td>陈达</td>\n",
       "      <td>暂无</td>\n",
       "      <td>19×51cm</td>\n",
       "      <td>NaN</td>\n",
       "      <td>第二十六届中国书画专场拍卖会</td>\n",
       "      <td>安徽新艺占拍卖有限公司</td>\n",
       "      <td>2017-04-16</td>\n",
       "      <td>NaN</td>\n",
       "    </tr>\n",
       "  </tbody>\n",
       "</table>\n",
       "</div>"
      ],
      "text/plain": [
       "                                                  img_url           title  \\\n",
       "0  NaN  http://img5.artron.net/auction/2017/art006471/...  0009 山水 扇面 纸本    \n",
       "\n",
       "                                               url     专场                估价  \\\n",
       "0  http://auction.artron.net/paimai-art0064710009/  中国书画一  RMB 　1,000-1,000   \n",
       "\n",
       "      作品分类  作者 创作年代       尺寸  成交价             拍卖会         拍卖公司        拍卖时间  \\\n",
       "0  中国书画>绘画  陈达   暂无  19×51cm  NaN  第二十六届中国书画专场拍卖会  安徽新艺占拍卖有限公司  2017-04-16   \n",
       "\n",
       "    说明  \n",
       "0  NaN  "
      ]
     },
     "execution_count": 41,
     "metadata": {},
     "output_type": "execute_result"
    }
   ],
   "source": [
    "data_df.head(1)"
   ]
  },
  {
   "cell_type": "markdown",
   "metadata": {},
   "source": [
    "## Objective\n",
    "Get the final price of the it. Maybe we can use the expert system combined with the SAM method to give the final price estimation."
   ]
  },
  {
   "cell_type": "markdown",
   "metadata": {},
   "source": [
    "## Features\n",
    "We have those following features: title, image（暂未获取）, 专场, 作品分类, 尺寸, 拍卖会, 拍卖公司, 拍卖时间, 说明, 作者名字&作者指数（暂未获取）. Totally, we have 10 features, 1 is image, 3 are numerical (尺寸，拍卖时间，作者指数), 6 are Chinese words (title, 专场, 拍卖会, 拍卖公司, 说明)\n",
    "- **Image data:** cNN classification? In some cases, we have several work join together.  \n",
    "- **Numerical data:** Decision Tree, kNN, or some regression method  \n",
    "- **Words data:** **NLP? does not know!**  "
   ]
  },
  {
   "cell_type": "markdown",
   "metadata": {},
   "source": [
    "**title:**\n",
    "Four digits numbers with words to discribe it."
   ]
  },
  {
   "cell_type": "code",
   "execution_count": 43,
   "metadata": {
    "collapsed": false
   },
   "outputs": [
    {
     "data": {
      "text/plain": [
       "0         0009 山水 扇面 纸本 \n",
       "1         0576 脸谱 扇面 纸本 \n",
       "2      9036 竹石图扇面 镜片 纸本 \n",
       "3         0578 花鸟 扇面 纸本 \n",
       "4         0573 山水 扇面 纸本 \n",
       "5       0007 春江鱼肥 扇面 纸本 \n",
       "6       0006 大吉大利 扇面 纸本 \n",
       "7       0437 荷塘游鱼 扇面 纸本 \n",
       "8       9037 花鸟扇面 镜片 纸本 \n",
       "9    0067 扇面 书法 镜心 设色纸本 \n",
       "Name: title, dtype: object"
      ]
     },
     "execution_count": 43,
     "metadata": {},
     "output_type": "execute_result"
    }
   ],
   "source": [
    "data_df.head(10)['title']"
   ]
  },
  {
   "cell_type": "code",
   "execution_count": 51,
   "metadata": {
    "collapsed": false,
    "scrolled": false
   },
   "outputs": [
    {
     "data": {
      "text/plain": [
       "79590    *1741 丙子（1696年）作 仿大痴山水 扇面 水墨纸本 \n",
       "79591                   0050 扇面双挖 立轴 纸本 \n",
       "79592            0891 当代 竹雕臂搁 紫檀扇面 （两把） \n",
       "79593      1567 辛卯（1531年）作 春柳烟波 扇面 设色金笺 \n",
       "79594                *1455 秋卉鸣禽 扇面 设色金笺 \n",
       "79595            0450 春山清霁 （六件） 扇面 水墨纸本 \n",
       "79596      1571 丁卯（1567年）作 江岸读书 扇面 设色金笺 \n",
       "79597                  0009 松林高士图 扇面 纸本 \n",
       "79598            0446 1943年作 书法 扇面 水墨纸本 \n",
       "79599                     0015 扇面 镜心 纸本 \n",
       "Name: title, dtype: object"
      ]
     },
     "execution_count": 51,
     "metadata": {},
     "output_type": "execute_result"
    }
   ],
   "source": [
    "data_df.tail(10)['title']"
   ]
  },
  {
   "cell_type": "markdown",
   "metadata": {},
   "source": [
    "The title can be divided into several parts:\n",
    "(content description) (type) (material)"
   ]
  }
 ],
 "metadata": {
  "kernelspec": {
   "display_name": "Python 2",
   "language": "python",
   "name": "python2"
  },
  "language_info": {
   "codemirror_mode": {
    "name": "ipython",
    "version": 2
   },
   "file_extension": ".py",
   "mimetype": "text/x-python",
   "name": "python",
   "nbconvert_exporter": "python",
   "pygments_lexer": "ipython2",
   "version": "2.7.13"
  }
 },
 "nbformat": 4,
 "nbformat_minor": 2
}
